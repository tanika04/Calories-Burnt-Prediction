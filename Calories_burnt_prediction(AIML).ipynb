{
  "nbformat": 4,
  "nbformat_minor": 0,
  "metadata": {
    "colab": {
      "private_outputs": true,
      "provenance": [],
      "collapsed_sections": [
        "dauF4eBmngu3",
        "8yEUt7NnHlrM",
        "4_0_7-oCpUZd",
        "bn_IUdTipZyH",
        "sIBVeGSUiBX9",
        "xx77GS_Fi2Vi",
        "YtT4Uc2wjXCO",
        "OmY5syRfjsaS",
        "wKnzR-4tkSDz",
        "xzD7FAdGkv0n",
        "gIfDvo9L0UH2"
      ]
    },
    "kernelspec": {
      "name": "python3",
      "display_name": "Python 3"
    },
    "language_info": {
      "name": "python"
    }
  },
  "cells": [
    {
      "cell_type": "markdown",
      "source": [
        "# **Project Name**    -\n",
        "\n"
      ],
      "metadata": {
        "id": "vncDsAP0Gaoa"
      }
    },
    {
      "cell_type": "markdown",
      "source": [
        "##### **Project Type**    - Regression\n",
        "##### **Contribution**    - Team\n",
        "##### **Team Member 1 -** Tanika (2210992437)\n",
        "##### **Team Member 2 -** Tamanna Kansal (2210992436)\n",
        "##### **Team Member 3 -** Swastik Tara (2210992433)\n",
        "##### **Team Member 4 -** Tanish Singla (2210992438)"
      ],
      "metadata": {
        "id": "beRrZCGUAJYm"
      }
    },
    {
      "cell_type": "markdown",
      "source": [
        "# **Project Summary -**"
      ],
      "metadata": {
        "id": "FJNUwmbgGyua"
      }
    },
    {
      "cell_type": "markdown",
      "source": [
        "In recent years, there has been a growing interest in leveraging artificial intelligence (AI) and machine learning (ML) techniques to develop predictive models for various applications, including health and fitness. One such area of focus is the development of calorie burn prediction models, which aim to accurately estimate the number of calories burned during physical activities. These models have the potential to revolutionize the way individuals track and manage their fitness goals, providing personalized insights and recommendations for optimizing workouts and overall health.\n",
        "\n",
        "Introduction to Calories Burnt Prediction Model\n",
        "\n",
        "Calorie burn prediction models utilize data from various sources, including wearable fitness trackers, heart rate monitors, accelerometers, and other sensors, to estimate the energy expenditure associated with different physical activities. These models take into account factors such as age, gender, weight, height, heart rate, duration of activity, and intensity level to generate accurate calorie burn estimates.\n",
        "\n",
        "Data Collection and Preprocessing\n",
        "\n",
        "The first step in building a calorie burn prediction model is to collect and preprocess the data required for training the model. This may involve gathering data from diverse sources such as fitness apps, smartwatches, fitness equipment, and research studies. The collected data is then cleaned, normalized, and preprocessed to remove noise, outliers, and inconsistencies, ensuring that it is suitable for training the ML model.\n",
        "\n",
        "Feature Engineering\n",
        "\n",
        "Feature engineering plays a crucial role in developing an effective calorie burn prediction model. This involves selecting and extracting relevant features from the raw data that are most informative for predicting calorie burn. Features may include heart rate patterns, activity type, duration, intensity, metabolic rate, and individual characteristics such as age, weight, and gender. Advanced techniques such as time-series analysis and signal processing may be employed to extract meaningful features from sensor data.\n",
        "\n",
        "Model Selection and Training\n",
        "\n",
        "Once the data is prepared and features are engineered, the next step is to select an appropriate ML algorithm and train the prediction model. Commonly used ML algorithms for calorie burn prediction include linear regression, decision trees, random forests, support vector machines (SVM), neural networks, and ensemble methods. The choice of algorithm depends on factors such as the complexity of the data, the size of the dataset, and the desired accuracy of the predictions. The model is trained using labeled data, where the input features are paired with the corresponding calorie burn measurements.\n",
        "\n",
        "Evaluation and Validation\n",
        "\n",
        "After training the model, it is essential to evaluate its performance and validate its accuracy using separate test datasets. Evaluation metrics such as mean absolute error (MAE), root mean squared error (RMSE), and coefficient of determination (R-squared) are commonly used to assess the model's predictive accuracy. The model may undergo iterative refinement and optimization based on the evaluation results to improve its performance further.\n",
        "\n",
        "Deployment and Integration\n",
        "\n",
        "Once the calorie burn prediction model has been trained and validated, it can be deployed and integrated into various fitness tracking platforms, mobile apps, wearable devices, and health monitoring systems. Users can then access real-time calorie burn estimates based on their physical activities, receive personalized recommendations for optimizing workouts, and track their progress towards fitness goals.\n",
        "\n",
        "Challenges and Future Directions\n",
        "\n",
        "Despite the advancements in AI and ML techniques for calorie burn prediction, several challenges remain. These include issues related to data quality, variability in individual metabolic rates, the accuracy of sensor measurements, and the generalization of models across diverse populations and activity types. Future research directions may focus on addressing these challenges through the development of more robust and accurate prediction models, incorporating additional physiological and contextual factors, and leveraging advanced AI techniques such as deep learning and reinforcement learning.\n",
        "\n",
        "```\n",
        "# This is formatted as code\n",
        "```\n",
        "\n"
      ],
      "metadata": {
        "id": "F6v_1wHtG2nS"
      }
    },
    {
      "cell_type": "markdown",
      "source": [
        "# **GitHub Link -**"
      ],
      "metadata": {
        "id": "w6K7xa23Elo4"
      }
    },
    {
      "cell_type": "markdown",
      "source": [
        "https://github.com/tanika04"
      ],
      "metadata": {
        "id": "h1o69JH3Eqqn"
      }
    },
    {
      "cell_type": "markdown",
      "source": [
        "# **Problem Statement**\n"
      ],
      "metadata": {
        "id": "yQaldy8SH6Dl"
      }
    },
    {
      "cell_type": "markdown",
      "source": [
        "The problem of accurately estimating calorie burn during physical activities is a significant challenge in the field of health and fitness monitoring. While traditional methods rely on generic formulas and approximations based on factors such as activity type, duration, and intensity level, these approaches often lack precision and fail to account for individual variability in metabolic rates and physiological responses. As a result, there is a growing demand for more personalized and accurate calorie burn prediction models that leverage artificial intelligence (AI) and machine learning (ML) techniques."
      ],
      "metadata": {
        "id": "DpeJGUA3kjGy"
      }
    },
    {
      "cell_type": "markdown",
      "source": [
        "# **General Guidelines** : -  "
      ],
      "metadata": {
        "id": "mDgbUHAGgjLW"
      }
    },
    {
      "cell_type": "markdown",
      "source": [
        "1.   Well-structured, formatted, and commented code is required.\n",
        "2.   Exception Handling, Production Grade Code & Deployment Ready Code will be a plus. Those students will be awarded some additional credits.\n",
        "     \n",
        "     The additional credits will have advantages over other students during Star Student selection.\n",
        "       \n",
        "             [ Note: - Deployment Ready Code is defined as, the whole .ipynb notebook should be executable in one go\n",
        "                       without a single error logged. ]\n",
        "\n",
        "3.   Each and every logic should have proper comments.\n",
        "4. You may add as many number of charts you want. Make Sure for each and every chart the following format should be answered.\n",
        "        \n",
        "\n",
        "```\n",
        "# Chart visualization code\n",
        "```\n",
        "            \n",
        "\n",
        "*   Why did you pick the specific chart?\n",
        "*   What is/are the insight(s) found from the chart?\n",
        "* Will the gained insights help creating a positive business impact?\n",
        "Are there any insights that lead to negative growth? Justify with specific reason.\n",
        "\n",
        "5. You have to create at least 15 logical & meaningful charts having important insights.\n",
        "\n",
        "\n",
        "[ Hints : - Do the Vizualization in  a structured way while following \"UBM\" Rule.\n",
        "\n",
        "U - Univariate Analysis,\n",
        "\n",
        "B - Bivariate Analysis (Numerical - Categorical, Numerical - Numerical, Categorical - Categorical)\n",
        "\n",
        "M - Multivariate Analysis\n",
        " ]\n",
        "\n",
        "\n",
        "\n",
        "\n",
        "\n",
        "6. You may add more ml algorithms for model creation. Make sure for each and every algorithm, the following format should be answered.\n",
        "\n",
        "\n",
        "*   Explain the ML Model used and it's performance using Evaluation metric Score Chart.\n",
        "\n",
        "\n",
        "*   Cross- Validation & Hyperparameter Tuning\n",
        "\n",
        "*   Have you seen any improvement? Note down the improvement with updates Evaluation metric Score Chart.\n",
        "\n",
        "*   Explain each evaluation metric's indication towards business and the business impact pf the ML model used.\n",
        "\n",
        "\n",
        "\n",
        "\n",
        "\n",
        "\n",
        "\n",
        "\n",
        "\n",
        "\n",
        "\n",
        "\n",
        "\n",
        "\n",
        "\n",
        "\n",
        "\n",
        "\n"
      ],
      "metadata": {
        "id": "ZrxVaUj-hHfC"
      }
    },
    {
      "cell_type": "markdown",
      "source": [
        "# ***Let's Begin !***"
      ],
      "metadata": {
        "id": "O_i_v8NEhb9l"
      }
    },
    {
      "cell_type": "markdown",
      "source": [
        "## ***1. Know Your Data***"
      ],
      "metadata": {
        "id": "HhfV-JJviCcP"
      }
    },
    {
      "cell_type": "markdown",
      "source": [
        "### Import Libraries"
      ],
      "metadata": {
        "id": "Y3lxredqlCYt"
      }
    },
    {
      "cell_type": "code",
      "source": [
        "# Import Libraries\n",
        "import pandas as pd\n",
        "import numpy as np\n",
        "import matplotlib.pyplot as plt\n",
        "%matplotlib inline\n",
        "import seaborn as sns\n",
        "from sklearn.linear_model import LinearRegression\n",
        "from sklearn.metrics import r2_score,mean_squared_error,mean_absolute_error\n",
        "from sklearn.model_selection import train_test_split\n",
        "from sklearn.tree import DecisionTreeRegressor\n",
        "from sklearn.preprocessing import StandardScaler\n",
        "from sklearn.svm import SVR"
      ],
      "metadata": {
        "id": "M8Vqi-pPk-HR"
      },
      "execution_count": null,
      "outputs": []
    },
    {
      "cell_type": "markdown",
      "source": [
        "### Dataset Loading"
      ],
      "metadata": {
        "id": "3RnN4peoiCZX"
      }
    },
    {
      "cell_type": "code",
      "source": [
        "# Load the exercise CSV file\n",
        "exercise_df = pd.read_csv('/content/exercise.csv')\n",
        "\n",
        "# Load the calories CSV file\n",
        "calories_df = pd.read_csv('/content/calories.csv')\n",
        "\n",
        "# Merge the two dataframes based on the 'User_ID' column\n",
        "merged_df = pd.merge(exercise_df, calories_df, on='User_ID')\n",
        "\n",
        "# Append the 'Calories' column to the end of the exercise dataframe\n",
        "exercise_df['Calories'] = calories_df['Calories']\n",
        "\n",
        "# Save the modified exercise dataframe to a new CSV file\n",
        "exercise_df.to_csv('merged_exercise.csv', index=False)"
      ],
      "metadata": {
        "id": "4CkvbW_SlZ_R"
      },
      "execution_count": null,
      "outputs": []
    },
    {
      "cell_type": "markdown",
      "source": [
        "### Dataset First View"
      ],
      "metadata": {
        "id": "x71ZqKXriCWQ"
      }
    },
    {
      "cell_type": "code",
      "source": [
        "# Dataset First Look\n",
        "df=pd.read_csv('merged_exercise.csv')\n",
        "df"
      ],
      "metadata": {
        "id": "LWNFOSvLl09H"
      },
      "execution_count": null,
      "outputs": []
    },
    {
      "cell_type": "markdown",
      "source": [
        "### Dataset Rows & Columns count"
      ],
      "metadata": {
        "id": "7hBIi_osiCS2"
      }
    },
    {
      "cell_type": "code",
      "source": [
        "# Dataset Rows & Columns count\n",
        "print(df.shape)\n",
        "num_rows, num_columns = df.shape\n",
        "print(\"Number of rows:\", num_rows)\n",
        "print(\"Number of columns:\", num_columns)\n",
        "\n",
        "df.count()"
      ],
      "metadata": {
        "id": "Kllu7SJgmLij"
      },
      "execution_count": null,
      "outputs": []
    },
    {
      "cell_type": "markdown",
      "source": [
        "### Dataset Information"
      ],
      "metadata": {
        "id": "JlHwYmJAmNHm"
      }
    },
    {
      "cell_type": "code",
      "source": [
        "# Dataset Info\n",
        "df.info()"
      ],
      "metadata": {
        "id": "e9hRXRi6meOf"
      },
      "execution_count": null,
      "outputs": []
    },
    {
      "cell_type": "markdown",
      "source": [
        "#### Duplicate Values"
      ],
      "metadata": {
        "id": "35m5QtbWiB9F"
      }
    },
    {
      "cell_type": "code",
      "source": [
        "# Dataset Duplicate Value Count\n",
        "duplicate_count = df.duplicated().sum()\n",
        "print(duplicate_count)"
      ],
      "metadata": {
        "id": "1sLdpKYkmox0"
      },
      "execution_count": null,
      "outputs": []
    },
    {
      "cell_type": "markdown",
      "source": [
        "#### Missing Values/Null Values"
      ],
      "metadata": {
        "id": "PoPl-ycgm1ru"
      }
    },
    {
      "cell_type": "code",
      "source": [
        "# Missing Values/Null Values Count\n",
        "null_values=df.isnull().sum()\n",
        "print(null_values)"
      ],
      "metadata": {
        "id": "GgHWkxvamxVg"
      },
      "execution_count": null,
      "outputs": []
    },
    {
      "cell_type": "code",
      "source": [
        "# Visualizing the missing values\n",
        "plt.figure(figsize = (10,7))\n",
        "sns.heatmap(df.isnull(), cbar=False)\n",
        "plt.show()"
      ],
      "metadata": {
        "id": "3q5wnI3om9sJ"
      },
      "execution_count": null,
      "outputs": []
    },
    {
      "cell_type": "markdown",
      "source": [
        "### What did you know about your dataset?"
      ],
      "metadata": {
        "id": "H0kj-8xxnORC"
      }
    },
    {
      "cell_type": "markdown",
      "source": [
        "1)In our dataframe there are 15000 rows and 9 columns\n",
        "\n",
        "2)It has no missing values\n",
        "\n",
        "3)It has six dataypes of type float64 ,two datatypes of type int64 ,and one datatype of type object\n",
        "\n",
        "4)The heatmap provides a visual representation of missing values across all data points. It facilitates the identification of patterns in missing data, such as concentration within specific subsets of rows. In this case, since there are no missing values, the heatmap would exhibit uniformity, indicating the absence of any gaps in the data."
      ],
      "metadata": {
        "id": "gfoNAAC-nUe_"
      }
    },
    {
      "cell_type": "markdown",
      "source": [
        "## ***2. Understanding Your Variables***"
      ],
      "metadata": {
        "id": "nA9Y7ga8ng1Z"
      }
    },
    {
      "cell_type": "code",
      "source": [
        "# Dataset Columns\n",
        "print(df.columns)"
      ],
      "metadata": {
        "id": "j7xfkqrt5Ag5"
      },
      "execution_count": null,
      "outputs": []
    },
    {
      "cell_type": "code",
      "source": [
        "# Dataset Describe\n",
        "df.describe()"
      ],
      "metadata": {
        "id": "DnOaZdaE5Q5t"
      },
      "execution_count": null,
      "outputs": []
    },
    {
      "cell_type": "markdown",
      "source": [
        "### Variables Description"
      ],
      "metadata": {
        "id": "PBTbrJXOngz2"
      }
    },
    {
      "cell_type": "markdown",
      "source": [
        "1. User ID: Unique identifier for each user.\n",
        "\n",
        "2. Gender: Gender of the user (male/female).\n",
        "\n",
        "3. Age: Age of the user in years.\n",
        "\n",
        "4. Height: Height of the user in centimeters.\n",
        "\n",
        "5. Weight: Weight of the user in kilograms.\n",
        "\n",
        "6. Duration: Duration of the physical activity session in minutes.\n",
        "\n",
        "7. Heart Rate: Average heart rate of the user during the activity session.\n",
        "\n",
        "8. Body Temperature: Average body temperature of the user during the activity session, measured in Celsius.\n",
        "\n",
        "9. Calories: Number of calories burnt by the user during the activity session, which serves as the target variable for prediction."
      ],
      "metadata": {
        "id": "aJV4KIxSnxay"
      }
    },
    {
      "cell_type": "markdown",
      "source": [
        "### Check Unique Values for each variable."
      ],
      "metadata": {
        "id": "u3PMJOP6ngxN"
      }
    },
    {
      "cell_type": "code",
      "source": [
        "# Check Unique Values for each variable means it tells how many different values of each column are there\n",
        "df.nunique()"
      ],
      "metadata": {
        "id": "zms12Yq5n-jE"
      },
      "execution_count": null,
      "outputs": []
    },
    {
      "cell_type": "markdown",
      "source": [
        "## 3. ***Data Wrangling***"
      ],
      "metadata": {
        "id": "dauF4eBmngu3"
      }
    },
    {
      "cell_type": "markdown",
      "source": [
        "### Data Wrangling Code"
      ],
      "metadata": {
        "id": "bKJF3rekwFvQ"
      }
    },
    {
      "cell_type": "code",
      "source": [
        "# Write your code to make your dataset analysis ready.\n",
        "missing_values = df.isnull().sum()\n",
        "\n",
        "# Print the number of missing values in each column\n",
        "(missing_values)"
      ],
      "metadata": {
        "id": "wk-9a2fpoLcV"
      },
      "execution_count": null,
      "outputs": []
    },
    {
      "cell_type": "code",
      "source": [
        "#  Basic Aggregations\n",
        "#1. Total calories burnt by age\n",
        "total_caloriesburnt_by_age = df.groupby('Age')['Calories'].sum()\n",
        "print(\"total calories burnt by age :\");\n",
        "(total_caloriesburnt_by_age)"
      ],
      "metadata": {
        "id": "TduyTwZt-MTb"
      },
      "execution_count": null,
      "outputs": []
    },
    {
      "cell_type": "code",
      "source": [
        "#  Basic Aggregations\n",
        "#1. Total calories burnt by Gender\n",
        "total_caloriesburnt_by_Gender = df.groupby('Gender')['Calories'].sum()\n",
        "print(\"total calories burnt by Gender :\");\n",
        "(total_caloriesburnt_by_Gender)"
      ],
      "metadata": {
        "id": "vAfIsp8D-Omx"
      },
      "execution_count": null,
      "outputs": []
    },
    {
      "cell_type": "code",
      "source": [
        "#  Basic Aggregations\n",
        "#1. Total calories burnt by Duration\n",
        "print(\"total calories burnt by Duration :\");\n",
        "df.groupby('Duration')['Calories'].sum()"
      ],
      "metadata": {
        "id": "QtpsD_JR-RU6"
      },
      "execution_count": null,
      "outputs": []
    },
    {
      "cell_type": "code",
      "source": [
        "#  Basic Aggregations\n",
        "#1. Total calories burnt by Height\n",
        "total_caloriesburnt_by_Height = df.groupby('Height')['Calories'].sum()\n",
        "print(\"total calories burnt by Height:\");\n",
        "(total_caloriesburnt_by_Height)"
      ],
      "metadata": {
        "id": "pk-SLVzA-Svd"
      },
      "execution_count": null,
      "outputs": []
    },
    {
      "cell_type": "code",
      "source": [
        "# Multi-Level GroupBy\n",
        "#calories burnt by age and gender\n",
        "calories_burnt_by_agegender  = df.groupby(['Age', 'Gender'])['Calories'].sum()\n",
        "print(\"\\ncalories burnt by age and gender :\")\n",
        "print(calories_burnt_by_agegender)"
      ],
      "metadata": {
        "id": "OP81R_rG-ULK"
      },
      "execution_count": null,
      "outputs": []
    },
    {
      "cell_type": "code",
      "source": [
        "# Multi-Level GroupBy\n",
        "#calories burnt by age and Duration\n",
        "df.groupby(['Age', 'Duration'])['Calories'].sum()\n"
      ],
      "metadata": {
        "id": "vHnNNqro-V-P"
      },
      "execution_count": null,
      "outputs": []
    },
    {
      "cell_type": "markdown",
      "source": [
        "### What all manipulations have you done and insights you found?"
      ],
      "metadata": {
        "id": "MSa1f5Uengrz"
      }
    },
    {
      "cell_type": "markdown",
      "source": [
        "Data Types and Format Checking: I've identified the data types of each column based on the given dataset.\n",
        "\n",
        "Variable Descriptions: I've provided descriptions for each variable/column based on its name and the provided dataset.\n",
        "\n",
        "Data Quality Check: By inspecting the dataset, I can ensure that there are no missing values or anomalies in the provided data. This quality check is crucial before performing any analysis or modeling tasks.\n",
        "\n",
        "Visualization: There are visualizations such as histograms, scatter plots, and box plots to better understand the distribution and relationships within the dataset.\n",
        "\n",
        "Predictive Modeling: In the subsequent analysis, focus was on predicting calorie burn during physical activity by employing regression techniques. This process entailed dividing the dataset into training and testing subsets, identifying relevant features, and assessing the model's predictive performance."
      ],
      "metadata": {
        "id": "LbyXE7I1olp8"
      }
    },
    {
      "cell_type": "markdown",
      "source": [
        "## ***4. Data Vizualization, Storytelling & Experimenting with charts : Understand the relationships between variables***"
      ],
      "metadata": {
        "id": "GF8Ens_Soomf"
      }
    },
    {
      "cell_type": "markdown",
      "source": [
        "#### Chart - 1"
      ],
      "metadata": {
        "id": "0wOQAZs5pc--"
      }
    },
    {
      "cell_type": "code",
      "source": [
        "# Chart - 1 visualization code\n",
        "plt.figure(figsize=(10, 6))\n",
        "sns.scatterplot(data=df, x='Age', y='Calories')\n",
        "plt.title('Age vs. Calories Burnt')\n",
        "plt.xlabel('Age')\n",
        "plt.ylabel('Calories')\n",
        "plt.show()"
      ],
      "metadata": {
        "id": "7v_ESjsspbW7"
      },
      "execution_count": null,
      "outputs": []
    },
    {
      "cell_type": "markdown",
      "source": [
        "##### 1. Why did you pick the specific chart?"
      ],
      "metadata": {
        "id": "K5QZ13OEpz2H"
      }
    },
    {
      "cell_type": "markdown",
      "source": [
        "I chose a scatter plot because it effectively displays the relationship between two continuous variables, in this case, age and calories burnt. Scatter plots are great for visualizing correlations or patterns in data points. By plotting age on the x-axis and calories burnt on the y-axis, we can see if there's any discernible trend or relationship between these two variables."
      ],
      "metadata": {
        "id": "XESiWehPqBRc"
      }
    },
    {
      "cell_type": "markdown",
      "source": [
        "##### 2. What is/are the insight(s) found from the chart?"
      ],
      "metadata": {
        "id": "lQ7QKXXCp7Bj"
      }
    },
    {
      "cell_type": "markdown",
      "source": [
        " The plot may reveal whether there's a correlation between age and calories burnt. For instance, if the points trend upward from left to right, it suggests that as age increases, so does the number of calories burnt."
      ],
      "metadata": {
        "id": "C_j1G7yiqdRP"
      }
    },
    {
      "cell_type": "markdown",
      "source": [
        "##### 3. Will the gained insights help creating a positive business impact?\n",
        "Are there any insights that lead to negative growth? Justify with specific reason."
      ],
      "metadata": {
        "id": "448CDAPjqfQr"
      }
    },
    {
      "cell_type": "markdown",
      "source": [
        "The insights gained from the Age vs. Calories Burnt scatter plot can potentially lead to positive business impacts.\n",
        "\n",
        "Understanding the relationship between age and calories burnt can help fitness and wellness businesses tailor their marketing efforts to different age demographics."
      ],
      "metadata": {
        "id": "3cspy4FjqxJW"
      }
    },
    {
      "cell_type": "markdown",
      "source": [
        "#### Chart - 2"
      ],
      "metadata": {
        "id": "KSlN3yHqYklG"
      }
    },
    {
      "cell_type": "code",
      "source": [
        "# Chart - 2 visualization code\n",
        "# Example 2: Box plot of gender vs. duration\n",
        "plt.figure(figsize=(8, 5))\n",
        "sns.boxplot(data=df, x='Gender', y='Duration')\n",
        "plt.title('Gender vs. Duration')\n",
        "plt.xlabel('Gender')\n",
        "plt.ylabel('Duration (minutes)')\n",
        "plt.show()"
      ],
      "metadata": {
        "id": "R4YgtaqtYklH"
      },
      "execution_count": null,
      "outputs": []
    },
    {
      "cell_type": "markdown",
      "source": [
        "##### 1. Why did you pick the specific chart?"
      ],
      "metadata": {
        "id": "t6dVpIINYklI"
      }
    },
    {
      "cell_type": "markdown",
      "source": [
        "I chose a box plot for comparing Gender vs. Duration because it effectively summarizes the distribution of duration values within each gender category.\n",
        "\n",
        "Box plots allow for a clear comparison of the central tendency, spread, and skewness of the duration data between different gender groups."
      ],
      "metadata": {
        "id": "5aaW0BYyYklI"
      }
    },
    {
      "cell_type": "markdown",
      "source": [
        "##### 2. What is/are the insight(s) found from the chart?"
      ],
      "metadata": {
        "id": "ijmpgYnKYklI"
      }
    },
    {
      "cell_type": "markdown",
      "source": [
        "Comparison of Central Tendency: The plot allows for a comparison of the median duration values between different genders.\n",
        "\n",
        "This can provide insights into whether there are any notable differences in the average duration of activities between males and females."
      ],
      "metadata": {
        "id": "PSx9atu2YklI"
      }
    },
    {
      "cell_type": "markdown",
      "source": [
        "##### 3. Will the gained insights help creating a positive business impact?\n",
        "Are there any insights that lead to negative growth? Justify with specific reason."
      ],
      "metadata": {
        "id": "-JiQyfWJYklI"
      }
    },
    {
      "cell_type": "markdown",
      "source": [
        "The insights gained from the Gender vs. Duration box plot can potentially lead to positive business impacts.\n",
        "\n",
        "Understanding gender-based differences in activity durations can help businesses tailor their marketing strategies to better appeal to specific gender demographics."
      ],
      "metadata": {
        "id": "BcBbebzrYklV"
      }
    },
    {
      "cell_type": "markdown",
      "source": [
        "#### Chart - 3"
      ],
      "metadata": {
        "id": "EM7whBJCYoAo"
      }
    },
    {
      "cell_type": "code",
      "source": [
        "# Chart - 3 visualization code\n",
        "# Bar graph of average calories burnt by gender\n",
        "avg_calories_gender = df.groupby('Gender')['Calories'].mean().reset_index()\n",
        "plt.figure(figsize=(8, 5))\n",
        "sns.barplot(data=avg_calories_gender, x='Gender', y='Calories')\n",
        "plt.title('Average Calories Burnt by Gender')\n",
        "plt.xlabel('Gender')\n",
        "plt.ylabel('Calories')\n",
        "plt.show()"
      ],
      "metadata": {
        "id": "t6GMdE67YoAp"
      },
      "execution_count": null,
      "outputs": []
    },
    {
      "cell_type": "markdown",
      "source": [
        "##### 1. Why did you pick the specific chart?"
      ],
      "metadata": {
        "id": "fge-S5ZAYoAp"
      }
    },
    {
      "cell_type": "markdown",
      "source": [
        "\n",
        "I chose a bar graph for visualizing the average calories burnt by gender because it effectively presents a comparison of the mean calorie expenditure between different gender groups."
      ],
      "metadata": {
        "id": "5dBItgRVYoAp"
      }
    },
    {
      "cell_type": "markdown",
      "source": [
        "##### 2. What is/are the insight(s) found from the chart?"
      ],
      "metadata": {
        "id": "85gYPyotYoAp"
      }
    },
    {
      "cell_type": "markdown",
      "source": [
        "The graph clearly shows the average calorie expenditure for males and females, providing insights into potential gender-based differences in physical activity levels or metabolic rates."
      ],
      "metadata": {
        "id": "4jstXR6OYoAp"
      }
    },
    {
      "cell_type": "markdown",
      "source": [
        "##### 3. Will the gained insights help creating a positive business impact?\n",
        "Are there any insights that lead to negative growth? Justify with specific reason."
      ],
      "metadata": {
        "id": "RoGjAbkUYoAp"
      }
    },
    {
      "cell_type": "markdown",
      "source": [
        "The insights gained from the bar graph of Average Calories Burnt by Gender can potentially lead to positive business impacts."
      ],
      "metadata": {
        "id": "zfJ8IqMcYoAp"
      }
    },
    {
      "cell_type": "markdown",
      "source": [
        "#### Chart - 4"
      ],
      "metadata": {
        "id": "4Of9eVA-YrdM"
      }
    },
    {
      "cell_type": "code",
      "source": [
        "# Chart - 4 visualization code\n",
        "# Histogram of calories burnt distribution\n",
        "plt.figure(figsize=(10, 6))\n",
        "plt.hist(df['Calories'], bins=20, color='skyblue', edgecolor='black')\n",
        "plt.title('Calories Burnt Distribution')\n",
        "plt.xlabel('Calories Burnt')\n",
        "plt.ylabel('Frequency')\n",
        "plt.show()"
      ],
      "metadata": {
        "id": "irlUoxc8YrdO"
      },
      "execution_count": null,
      "outputs": []
    },
    {
      "cell_type": "markdown",
      "source": [
        "##### 1. Why did you pick the specific chart?"
      ],
      "metadata": {
        "id": "iky9q4vBYrdO"
      }
    },
    {
      "cell_type": "markdown",
      "source": [
        "I chose a histogram for visualizing the distribution of calories burnt because it effectively illustrates the frequency distribution of a continuous variable, in this case, the calories burnt."
      ],
      "metadata": {
        "id": "aJRCwT6DYrdO"
      }
    },
    {
      "cell_type": "markdown",
      "source": [
        "##### 2. What is/are the insight(s) found from the chart?"
      ],
      "metadata": {
        "id": "F6T5p64dYrdO"
      }
    },
    {
      "cell_type": "markdown",
      "source": [
        "Shape of the Distribution: The histogram provides insights into the shape of the distribution of calorie burnt values. For example, it may reveal whether the distribution is symmetric, skewed to the left (negative skew), or skewed to the right (positive skew)."
      ],
      "metadata": {
        "id": "Xx8WAJvtYrdO"
      }
    },
    {
      "cell_type": "markdown",
      "source": [
        "##### 3. Will the gained insights help creating a positive business impact?\n",
        "Are there any insights that lead to negative growth? Justify with specific reason."
      ],
      "metadata": {
        "id": "y-Ehk30pYrdP"
      }
    },
    {
      "cell_type": "markdown",
      "source": [
        "The insights gained from the histogram of Calories Burnt Distribution can potentially lead to positive business impacts.\n",
        "\n",
        "Understanding the distribution of calorie burnt values can help businesses in the fitness or wellness industry tailor their product offerings to better meet the needs and preferences of their target audience."
      ],
      "metadata": {
        "id": "jLNxxz7MYrdP"
      }
    },
    {
      "cell_type": "markdown",
      "source": [
        "#### Chart - 5"
      ],
      "metadata": {
        "id": "bamQiAODYuh1"
      }
    },
    {
      "cell_type": "code",
      "source": [
        "# Chart - 5 visualization code\n",
        "# Pie chart of gender distribution\n",
        "gender_counts = df['Gender'].value_counts()\n",
        "plt.figure(figsize=(8, 6))\n",
        "plt.pie(gender_counts, labels=gender_counts.index, autopct='%1.1f%%', startangle=140)\n",
        "plt.title('Gender Distribution')\n",
        "plt.show()"
      ],
      "metadata": {
        "id": "TIJwrbroYuh3"
      },
      "execution_count": null,
      "outputs": []
    },
    {
      "cell_type": "markdown",
      "source": [
        "##### 1. Why did you pick the specific chart?"
      ],
      "metadata": {
        "id": "QHF8YVU7Yuh3"
      }
    },
    {
      "cell_type": "markdown",
      "source": [
        "I chose a pie chart for visualizing the gender distribution because it effectively represents the proportion of each gender category within the dataset."
      ],
      "metadata": {
        "id": "dcxuIMRPYuh3"
      }
    },
    {
      "cell_type": "markdown",
      "source": [
        "##### 2. What is/are the insight(s) found from the chart?"
      ],
      "metadata": {
        "id": "GwzvFGzlYuh3"
      }
    },
    {
      "cell_type": "markdown",
      "source": [
        "The pie chart provides insights into the relative proportions of each gender category within the dataset. Viewers can quickly see the distribution of genders and understand the proportion of males and females in the dataset."
      ],
      "metadata": {
        "id": "uyqkiB8YYuh3"
      }
    },
    {
      "cell_type": "markdown",
      "source": [
        "##### 3. Will the gained insights help creating a positive business impact?\n",
        "Are there any insights that lead to negative growth? Justify with specific reason."
      ],
      "metadata": {
        "id": "qYpmQ266Yuh3"
      }
    },
    {
      "cell_type": "markdown",
      "source": [
        "The insights gained from the Pie Chart of Gender Distribution can potentially lead to positive business impacts.\n",
        "\n",
        "\n",
        "Targeted Marketing Strategies: Understanding the gender distribution can help businesses develop more targeted marketing strategies tailored to different gender demographics. By focusing marketing efforts on specific gender categories that constitute a larger proportion of the dataset, businesses can improve the effectiveness of their campaigns and increase customer engagement."
      ],
      "metadata": {
        "id": "_WtzZ_hCYuh4"
      }
    },
    {
      "cell_type": "markdown",
      "source": [
        "#### Chart - 6"
      ],
      "metadata": {
        "id": "OH-pJp9IphqM"
      }
    },
    {
      "cell_type": "code",
      "source": [
        "# Chart - 6 visualization code\n",
        "# Scatter plot of calories burnt vs. duration\n",
        "plt.figure(figsize=(10, 6))\n",
        "plt.scatter(df['Duration'], df['Calories'], alpha=0.5)\n",
        "plt.title('Calories Burnt vs. Duration')\n",
        "plt.xlabel('Duration')\n",
        "plt.ylabel('Calories')\n",
        "plt.show()"
      ],
      "metadata": {
        "id": "kuRf4wtuphqN"
      },
      "execution_count": null,
      "outputs": []
    },
    {
      "cell_type": "markdown",
      "source": [],
      "metadata": {
        "id": "MhmA4ijeVT4z"
      }
    },
    {
      "cell_type": "markdown",
      "source": [
        "##### 1. Why did you pick the specific chart?"
      ],
      "metadata": {
        "id": "bbFf2-_FphqN"
      }
    },
    {
      "cell_type": "markdown",
      "source": [
        "I chose a scatter plot for visualizing the relationship between calories burnt and duration because it effectively displays the correlation or pattern between two continuous variables."
      ],
      "metadata": {
        "id": "loh7H2nzphqN"
      }
    },
    {
      "cell_type": "markdown",
      "source": [
        "##### 2. What is/are the insight(s) found from the chart?"
      ],
      "metadata": {
        "id": "_ouA3fa0phqN"
      }
    },
    {
      "cell_type": "markdown",
      "source": [
        "Correlation Analysis: The scatter plot provides insights into the correlation between duration and calories burnt.\n",
        "\n",
        "By observing the general trend of the data points, we can determine whether there's a positive correlation (as duration increases, calories burnt also increase), negative correlation (as duration increases, calories burnt decrease), or no correlation.\n"
      ],
      "metadata": {
        "id": "VECbqPI7phqN"
      }
    },
    {
      "cell_type": "markdown",
      "source": [
        "##### 3. Will the gained insights help creating a positive business impact?\n",
        "Are there any insights that lead to negative growth? Justify with specific reason."
      ],
      "metadata": {
        "id": "Seke61FWphqN"
      }
    },
    {
      "cell_type": "markdown",
      "source": [
        "The insights gained from the Scatter Plot of Calories Burnt vs. Duration can potentially lead to positive business impacts.\n",
        "\n",
        "Understanding the relationship between duration and calories burnt can help businesses in the fitness or wellness industry optimize their product offerings."
      ],
      "metadata": {
        "id": "DW4_bGpfphqN"
      }
    },
    {
      "cell_type": "markdown",
      "source": [
        "#### Chart - 7"
      ],
      "metadata": {
        "id": "PIIx-8_IphqN"
      }
    },
    {
      "cell_type": "code",
      "source": [
        "# Chart - 7 visualization code\n",
        "# Line plot of calories burnt over Duration\n",
        "plt.figure(figsize=(10, 6))\n",
        "plt.plot(df['Duration'], df['Calories'])\n",
        "plt.title('Calories Burnt Over Duration')\n",
        "plt.xlabel('Duration')\n",
        "plt.ylabel('Calories')\n",
        "plt.show()"
      ],
      "metadata": {
        "id": "lqAIGUfyphqO"
      },
      "execution_count": null,
      "outputs": []
    },
    {
      "cell_type": "markdown",
      "source": [
        "##### 1. Why did you pick the specific chart?"
      ],
      "metadata": {
        "id": "t27r6nlMphqO"
      }
    },
    {
      "cell_type": "markdown",
      "source": [
        "I chose a line plot for visualizing the relationship between calories burnt and duration because it effectively displays the trend or pattern of calorie expenditure over different durations of activity."
      ],
      "metadata": {
        "id": "iv6ro40sphqO"
      }
    },
    {
      "cell_type": "markdown",
      "source": [
        "##### 2. What is/are the insight(s) found from the chart?"
      ],
      "metadata": {
        "id": "r2jJGEOYphqO"
      }
    },
    {
      "cell_type": "markdown",
      "source": [
        "The line plot allows for the analysis of trends in calorie expenditure over different durations of activity.\n",
        "\n",
        "By examining the direction and slope of the line, insights can be gained into whether there is an overall increase, decrease, or stability in calorie burnt as duration changes."
      ],
      "metadata": {
        "id": "Po6ZPi4hphqO"
      }
    },
    {
      "cell_type": "markdown",
      "source": [
        "##### 3. Will the gained insights help creating a positive business impact?\n",
        "Are there any insights that lead to negative growth? Justify with specific reason."
      ],
      "metadata": {
        "id": "b0JNsNcRphqO"
      }
    },
    {
      "cell_type": "markdown",
      "source": [
        "The insights gained from the line plot of \"Calories Burnt Over Duration\" have the potential to create positive business impacts.\n",
        "\n",
        "Insights from the relationship between duration and calorie burnt can help fitness businesses optimize their programs."
      ],
      "metadata": {
        "id": "xvSq8iUTphqO"
      }
    },
    {
      "cell_type": "markdown",
      "source": [
        "#### Chart - 8"
      ],
      "metadata": {
        "id": "BZR9WyysphqO"
      }
    },
    {
      "cell_type": "code",
      "source": [
        "# Chart - 8 visualization code\n",
        "plt.figure(figsize=(10, 6))\n",
        "sns.lineplot(x='Duration', y='Heart_Rate', data=df)\n",
        "plt.title('Heart Rate Over Duration')\n",
        "plt.xlabel('Duration')\n",
        "plt.ylabel('Heart_Rate')\n",
        "plt.show()"
      ],
      "metadata": {
        "id": "TdPTWpAVphqO"
      },
      "execution_count": null,
      "outputs": []
    },
    {
      "cell_type": "markdown",
      "source": [
        "##### 1. Why did you pick the specific chart?"
      ],
      "metadata": {
        "id": "jj7wYXLtphqO"
      }
    },
    {
      "cell_type": "markdown",
      "source": [
        "I chose a line plot for visualizing the relationship between heart rate and duration because it effectively displays the trend or pattern of heart rate changes over different durations of activity."
      ],
      "metadata": {
        "id": "Ob8u6rCTphqO"
      }
    },
    {
      "cell_type": "markdown",
      "source": [
        "##### 2. What is/are the insight(s) found from the chart?"
      ],
      "metadata": {
        "id": "eZrbJ2SmphqO"
      }
    },
    {
      "cell_type": "markdown",
      "source": [
        "The line plot allows for the analysis of trends in heart rate changes over different durations of activity.\n",
        "\n",
        "By examining the direction and slope of the line, insights can be gained into whether there is an overall increase, decrease, or stability in heart rate as duration changes."
      ],
      "metadata": {
        "id": "mZtgC_hjphqO"
      }
    },
    {
      "cell_type": "markdown",
      "source": [
        "##### 3. Will the gained insights help creating a positive business impact?\n",
        "Are there any insights that lead to negative growth? Justify with specific reason."
      ],
      "metadata": {
        "id": "rFu4xreNphqO"
      }
    },
    {
      "cell_type": "markdown",
      "source": [
        "The insights gained from the Line Plot of Heart Rate Over Duration have the potential to create positive business impacts.\n",
        "\n",
        "Insights from the relationship between heart rate and duration can help fitness businesses optimize their programs.\n",
        "\n",
        "By understanding how heart rate changes over different durations of activity, businesses can tailor their fitness programs to achieve specific cardiovascular training goals, leading to improved customer satisfaction and retention."
      ],
      "metadata": {
        "id": "ey_0qi68phqO"
      }
    },
    {
      "cell_type": "markdown",
      "source": [
        "#### Chart - 9"
      ],
      "metadata": {
        "id": "YJ55k-q6phqO"
      }
    },
    {
      "cell_type": "code",
      "source": [
        "# Chart - 9 visualization code\n",
        "plt.figure(figsize=(10, 6))\n",
        "plt.hist(df['Age'], bins=20, color='skyblue', edgecolor='black')\n",
        "plt.title('Age Distribution')\n",
        "plt.xlabel('Age')\n",
        "plt.ylabel('Frequency')\n",
        "plt.show()"
      ],
      "metadata": {
        "id": "B2aS4O1ophqO"
      },
      "execution_count": null,
      "outputs": []
    },
    {
      "cell_type": "markdown",
      "source": [
        "##### 1. Why did you pick the specific chart?"
      ],
      "metadata": {
        "id": "gCFgpxoyphqP"
      }
    },
    {
      "cell_type": "markdown",
      "source": [
        "I chose a histogram for visualizing the distribution of ages because it effectively displays the frequency or count of age values within different age ranges."
      ],
      "metadata": {
        "id": "TVxDimi2phqP"
      }
    },
    {
      "cell_type": "markdown",
      "source": [
        "##### 2. What is/are the insight(s) found from the chart?"
      ],
      "metadata": {
        "id": "OVtJsKN_phqQ"
      }
    },
    {
      "cell_type": "markdown",
      "source": [
        "Central Tendency: The histogram provides insights into the central tendency of the age distribution, including the most common or typical age range within the dataset.\n",
        "\n",
        "Peaks or modes in the histogram indicate where the age values are concentrated, providing insights into the central tendency of the age distribution."
      ],
      "metadata": {
        "id": "ngGi97qjphqQ"
      }
    },
    {
      "cell_type": "markdown",
      "source": [
        "##### 3. Will the gained insights help creating a positive business impact?\n",
        "Are there any insights that lead to negative growth? Justify with specific reason."
      ],
      "metadata": {
        "id": "lssrdh5qphqQ"
      }
    },
    {
      "cell_type": "markdown",
      "source": [
        "The insights gained from the Histogram of Age Distribution can potentially lead to positive business impacts.\n",
        "\n",
        "Insights from the age distribution can inform targeted marketing strategies aimed at different age demographics.\n",
        "\n",
        "By understanding the age composition of their target audience, businesses can tailor their marketing efforts to better resonate with specific age groups, leading to increased customer engagement and conversion rates."
      ],
      "metadata": {
        "id": "tBpY5ekJphqQ"
      }
    },
    {
      "cell_type": "markdown",
      "source": [
        "#### Chart - 10"
      ],
      "metadata": {
        "id": "U2RJ9gkRphqQ"
      }
    },
    {
      "cell_type": "code",
      "source": [
        "# Chart - 10 visualization code\n",
        "plt.figure(figsize=(10, 6))\n",
        "sns.scatterplot(x='Weight', y='Height', data=df)\n",
        "plt.title('Weight vs. Height')\n",
        "plt.xlabel('Weight')\n",
        "plt.ylabel('Height')\n",
        "plt.show()"
      ],
      "metadata": {
        "id": "GM7a4YP4phqQ"
      },
      "execution_count": null,
      "outputs": []
    },
    {
      "cell_type": "markdown",
      "source": [
        "##### 1. Why did you pick the specific chart?"
      ],
      "metadata": {
        "id": "1M8mcRywphqQ"
      }
    },
    {
      "cell_type": "markdown",
      "source": [
        "I chose a scatter plot for visualizing the relationship between weight and height because it effectively displays the correlation or pattern between two continuous variables."
      ],
      "metadata": {
        "id": "8agQvks0phqQ"
      }
    },
    {
      "cell_type": "markdown",
      "source": [
        "##### 2. What is/are the insight(s) found from the chart?"
      ],
      "metadata": {
        "id": "tgIPom80phqQ"
      }
    },
    {
      "cell_type": "markdown",
      "source": [
        "The scatter plot provides insights into the correlation between weight and height.\n",
        "\n",
        "By observing the general trend of the data points, we can determine whether there is a positive correlation (as weight increases, height also increases), negative correlation (as weight increases, height decreases), or no correlation between weight and height."
      ],
      "metadata": {
        "id": "Qp13pnNzphqQ"
      }
    },
    {
      "cell_type": "markdown",
      "source": [
        "##### 3. Will the gained insights help creating a positive business impact?\n",
        "Are there any insights that lead to negative growth? Justify with specific reason."
      ],
      "metadata": {
        "id": "JMzcOPDDphqR"
      }
    },
    {
      "cell_type": "markdown",
      "source": [
        "The insights gained from the Scatter Plot of Weight vs. Height have the potential to create positive business impacts, but they could also lead to challenges or negative growth if not interpreted and utilized effectively.\n",
        "\n",
        "Positive Business Impact: Insights from the relationship between weight and height can help businesses in industries such as apparel, fitness equipment, and healthcare tailor their product offerings to better meet the needs of their target customers.\n",
        "\n",
        "Negative Growth: Misinterpreting or misusing insights from the scatter plot could lead to negative growth if businesses use weight and height data to stereotype or discriminate against individuals.\n",
        "\n"
      ],
      "metadata": {
        "id": "R4Ka1PC2phqR"
      }
    },
    {
      "cell_type": "markdown",
      "source": [
        "#### Chart - 11"
      ],
      "metadata": {
        "id": "x-EpHcCOp1ci"
      }
    },
    {
      "cell_type": "code",
      "source": [
        "# Chart - 11 visualization code\n",
        "plt.figure(figsize=(10, 6))\n",
        "sns.boxplot(x='Gender', y='Calories', data=df)\n",
        "plt.title('Calories Burnt by Gender')\n",
        "plt.xlabel('Gender')\n",
        "plt.ylabel('Calories Burnt')\n",
        "plt.show()"
      ],
      "metadata": {
        "id": "mAQTIvtqp1cj"
      },
      "execution_count": null,
      "outputs": []
    },
    {
      "cell_type": "markdown",
      "source": [
        "##### 1. Why did you pick the specific chart?"
      ],
      "metadata": {
        "id": "X_VqEhTip1ck"
      }
    },
    {
      "cell_type": "markdown",
      "source": [
        "I chose a box plot for visualizing the distribution of calories burnt by gender because it effectively displays the central tendency, spread, and variability of calorie expenditure between different gender groups."
      ],
      "metadata": {
        "id": "-vsMzt_np1ck"
      }
    },
    {
      "cell_type": "markdown",
      "source": [
        "##### 2. What is/are the insight(s) found from the chart?"
      ],
      "metadata": {
        "id": "8zGJKyg5p1ck"
      }
    },
    {
      "cell_type": "markdown",
      "source": [
        "Comparison of Median Calories Burnt: The box plot allows for a comparison of the median calorie burnt between genders. The horizontal line within each box represents the median calorie burnt for that gender group.\n",
        "\n",
        "Comparing these median values provides insights into any differences in average calorie expenditure between males and females.\n",
        "\n"
      ],
      "metadata": {
        "id": "ZYdMsrqVp1ck"
      }
    },
    {
      "cell_type": "markdown",
      "source": [
        "##### 3. Will the gained insights help creating a positive business impact?\n",
        "Are there any insights that lead to negative growth? Justify with specific reason."
      ],
      "metadata": {
        "id": "PVzmfK_Ep1ck"
      }
    },
    {
      "cell_type": "markdown",
      "source": [
        "The insights gained from the Box Plot of Calories Burnt by Gender have the potential to create positive business impacts, but they could also lead to challenges or negative growth if not interpreted and utilized effectively.\n",
        "\n",
        "Positive Impact:\n",
        "\n",
        "Tailored fitness programs for different gender groups.\n",
        "Targeted marketing strategies based on gender-specific fitness goals.\n",
        "Opportunities for gender-specific product development.\n",
        "\n",
        "Negative Impact:\n",
        "\n",
        "Gender stereotyping leading to discrimination.\n",
        "Exclusionary practices alienating potential customers.\n",
        "Missed opportunities for inclusivity and diversity."
      ],
      "metadata": {
        "id": "druuKYZpp1ck"
      }
    },
    {
      "cell_type": "markdown",
      "source": [
        "#### Chart - 12"
      ],
      "metadata": {
        "id": "n3dbpmDWp1ck"
      }
    },
    {
      "cell_type": "code",
      "source": [
        "# Chart - 12 visualization code\n",
        "age_groups = pd.cut(df['Age'], bins=[0, 20, 40, 60, 80, 100])\n",
        "plt.figure(figsize=(20, 6))\n",
        "sns.barplot(x='Age', y='Body_Temp', data=df)\n",
        "plt.xlabel('Age Group')\n",
        "plt.ylabel('Average Body Temperature')\n",
        "plt.title('Average Body Temperature by Age Group')\n",
        "plt.show()"
      ],
      "metadata": {
        "id": "bwevp1tKp1ck"
      },
      "execution_count": null,
      "outputs": []
    },
    {
      "cell_type": "markdown",
      "source": [
        "##### 1. Why did you pick the specific chart?"
      ],
      "metadata": {
        "id": "ylSl6qgtp1ck"
      }
    },
    {
      "cell_type": "markdown",
      "source": [
        "I selected a bar plot because it effectively displays the average body temperature across different age groups."
      ],
      "metadata": {
        "id": "m2xqNkiQp1ck"
      }
    },
    {
      "cell_type": "markdown",
      "source": [
        "##### 2. What is/are the insight(s) found from the chart?"
      ],
      "metadata": {
        "id": "ZWILFDl5p1ck"
      }
    },
    {
      "cell_type": "markdown",
      "source": [
        "From the Bar Plot of Average Body Temperature by Age Group:\n",
        "\n",
        "Age-Related Trends in Body Temperature: The bar plot provides insights into how average body temperature varies across different age groups. By examining the heights of the bars, we can identify any trends or patterns in body temperature as individuals age."
      ],
      "metadata": {
        "id": "x-lUsV2mp1ck"
      }
    },
    {
      "cell_type": "markdown",
      "source": [
        "##### 3. Will the gained insights help creating a positive business impact?\n",
        "Are there any insights that lead to negative growth? Justify with specific reason."
      ],
      "metadata": {
        "id": "M7G43BXep1ck"
      }
    },
    {
      "cell_type": "markdown",
      "source": [
        "Positive Impact:\n",
        "\n",
        "Tailored healthcare services: Insights inform personalized care and treatment plans.\n",
        "Product development: Opportunities for age-specific healthcare products.\n",
        "\n",
        "Improved customer satisfaction: Targeted care enhances patient experience.\n",
        "\n",
        "Negative Impact:\n",
        "\n",
        "Health concerns: Deviations may signal underlying issues, leading to increased costs.\n",
        "\n",
        "Ineffective marketing: Misinterpretation could result in wasted resources and decreased profitability."
      ],
      "metadata": {
        "id": "5wwDJXsLp1cl"
      }
    },
    {
      "cell_type": "markdown",
      "source": [
        "#### Chart - 13"
      ],
      "metadata": {
        "id": "Ag9LCva-p1cl"
      }
    },
    {
      "cell_type": "code",
      "source": [
        "# Chart - 13 visualization code\n",
        "# Violin plot of calories burnt distribution by age group\n",
        "plt.figure(figsize=(10, 6))\n",
        "sns.violinplot(x=age_groups, y='Calories', data=df)\n",
        "plt.xlabel('Age Group')\n",
        "plt.ylabel('Calories Burnt')\n",
        "plt.title('Calories Burnt Distribution by Age Group')\n",
        "plt.show()"
      ],
      "metadata": {
        "id": "EUfxeq9-p1cl"
      },
      "execution_count": null,
      "outputs": []
    },
    {
      "cell_type": "markdown",
      "source": [
        "##### 1. Why did you pick the specific chart?"
      ],
      "metadata": {
        "id": "E6MkPsBcp1cl"
      }
    },
    {
      "cell_type": "markdown",
      "source": [
        "I chose a violin plot for visualizing the distribution of calories burnt by age group because it effectively displays the distribution, central tendency, and spread of calorie expenditure within each age group."
      ],
      "metadata": {
        "id": "V22bRsFWp1cl"
      }
    },
    {
      "cell_type": "markdown",
      "source": [
        "##### 2. What is/are the insight(s) found from the chart?"
      ],
      "metadata": {
        "id": "2cELzS2fp1cl"
      }
    },
    {
      "cell_type": "markdown",
      "source": [
        "The violin plot allows for a comparison of the distribution shapes of calorie burnt between different age groups.\n",
        "\n",
        "Differences in the width, height, and shape of the violins indicate variations in the distribution patterns of calorie expenditure across age groups."
      ],
      "metadata": {
        "id": "ozQPc2_Ip1cl"
      }
    },
    {
      "cell_type": "markdown",
      "source": [
        "##### 3. Will the gained insights help creating a positive business impact?\n",
        "Are there any insights that lead to negative growth? Justify with specific reason."
      ],
      "metadata": {
        "id": "3MPXvC8up1cl"
      }
    },
    {
      "cell_type": "markdown",
      "source": [
        "Positive Impact:\n",
        "\n",
        "Tailored health programs and marketing: Insights inform age-specific strategies, enhancing customer engagement.\n",
        "\n",
        "Product development: Opportunities for age-specific fitness products, optimizing calorie expenditure.\n",
        "\n",
        "Negative Impact:\n",
        "\n",
        "Exclusionary practices: Overreliance on age-specific insights may neglect diverse needs.\n",
        "\n",
        "Misinterpretation: Misinterpreting outliers could lead to ineffective interventions.\n",
        "\n",
        "Health disparities: Failure to address disparities may exacerbate negative health outcomes."
      ],
      "metadata": {
        "id": "GL8l1tdLp1cl"
      }
    },
    {
      "cell_type": "markdown",
      "source": [
        "#### Chart - 14 - Correlation Heatmap"
      ],
      "metadata": {
        "id": "NC_X3p0fY2L0"
      }
    },
    {
      "cell_type": "code",
      "source": [
        "# Correlation Heatmap visualization code\n",
        "df_no_gender = df.drop('Gender', axis=1) # Drop 'gender' column from DataFrame df\n",
        "# Generate heatmap of correlation between variables (excluding 'gender')\n",
        "plt.figure(figsize=(10, 6))\n",
        "sns.heatmap(df_no_gender.corr(), annot=True, cmap='coolwarm')\n",
        "plt.title('Correlation Between Variables (Excluding Gender)')\n",
        "plt.show()"
      ],
      "metadata": {
        "id": "xyC9zolEZNRQ"
      },
      "execution_count": null,
      "outputs": []
    },
    {
      "cell_type": "markdown",
      "source": [
        "##### 1. Why did you pick the specific chart?"
      ],
      "metadata": {
        "id": "UV0SzAkaZNRQ"
      }
    },
    {
      "cell_type": "markdown",
      "source": [
        "I selected a correlation heatmap because it effectively visualizes the pairwise correlations between different variables in the dataset, excluding the 'Gender' column."
      ],
      "metadata": {
        "id": "DVPuT8LYZNRQ"
      }
    },
    {
      "cell_type": "markdown",
      "source": [
        "##### 2. What is/are the insight(s) found from the chart?"
      ],
      "metadata": {
        "id": "YPEH6qLeZNRQ"
      }
    },
    {
      "cell_type": "markdown",
      "source": [
        "Strength and Direction: Reveals strength and direction of correlations.\n",
        "\n",
        "Strong Relationships: Identifies strong correlations between variables.\n",
        "\n",
        "Weak Relationships: Highlights weak or no correlations.\n",
        "\n",
        "Patterns: Shows clusters of variables with related correlations.\n",
        "\n",
        "Multicollinearity: Indicates potential multicollinearity issues."
      ],
      "metadata": {
        "id": "bfSqtnDqZNRR"
      }
    },
    {
      "cell_type": "markdown",
      "source": [
        "#### Chart - 15 - Pair Plot"
      ],
      "metadata": {
        "id": "q29F0dvdveiT"
      }
    },
    {
      "cell_type": "code",
      "source": [
        "# Pair Plot visualization code\n",
        "# Pairplot of selected variables\n",
        "sns.pairplot(df[['Age', 'Height', 'Weight', 'Duration', 'Heart_Rate', 'Calories']])\n",
        "plt.title('Pairplot of Selected Variables')\n",
        "plt.show()"
      ],
      "metadata": {
        "id": "o58-TEIhveiU"
      },
      "execution_count": null,
      "outputs": []
    },
    {
      "cell_type": "markdown",
      "source": [
        "##### 1. Why did you pick the specific chart?"
      ],
      "metadata": {
        "id": "EXh0U9oCveiU"
      }
    },
    {
      "cell_type": "markdown",
      "source": [
        "I chose a pair plot because it effectively visualizes the pairwise relationships between multiple selected variables in the dataset."
      ],
      "metadata": {
        "id": "eMmPjTByveiU"
      }
    },
    {
      "cell_type": "markdown",
      "source": [
        "##### 2. What is/are the insight(s) found from the chart?"
      ],
      "metadata": {
        "id": "22aHeOlLveiV"
      }
    },
    {
      "cell_type": "markdown",
      "source": [
        "The pair plot reveals the direction and strength of relationships between pairs of variables.\n",
        "Scatterplots display how variables change relative to each other, indicating whether they are positively, negatively, or not correlated.\n",
        "\n"
      ],
      "metadata": {
        "id": "uPQ8RGwHveiV"
      }
    },
    {
      "cell_type": "markdown",
      "source": [
        "## ***5. Hypothesis Testing***"
      ],
      "metadata": {
        "id": "g-ATYxFrGrvw"
      }
    },
    {
      "cell_type": "markdown",
      "source": [
        "### Based on your chart experiments, define three hypothetical statements from the dataset. In the next three questions, perform hypothesis testing to obtain final conclusion about the statements through your code and statistical testing."
      ],
      "metadata": {
        "id": "Yfr_Vlr8HBkt"
      }
    },
    {
      "cell_type": "markdown",
      "source": [
        "1.Age has a significant effect on the number of calories burnt during a workout.\n",
        "\n",
        "2.There is a difference in the average number of calories burnt between males and females.\n",
        "\n",
        "3.There is a significant correlation between heart rate and calories burnt.\n"
      ],
      "metadata": {
        "id": "-7MS06SUHkB-"
      }
    },
    {
      "cell_type": "markdown",
      "source": [
        "### Hypothetical Statement - 1"
      ],
      "metadata": {
        "id": "8yEUt7NnHlrM"
      }
    },
    {
      "cell_type": "markdown",
      "source": [
        "#### 1. State Your research hypothesis as a null hypothesis and alternate hypothesis."
      ],
      "metadata": {
        "id": "tEA2Xm5dHt1r"
      }
    },
    {
      "cell_type": "markdown",
      "source": [
        "NULL Hypothesis(H0):Age has no significant effect on the number of calories burnt during a workout.\n",
        "\n",
        "H0: β_age = 0\n",
        "\n",
        "Alternative Hypothesis (H1): Age has a significant effect on the number of calories burnt during a workout.\n",
        "\n",
        "H1: β_age ≠ 0"
      ],
      "metadata": {
        "id": "HI9ZP0laH0D-"
      }
    },
    {
      "cell_type": "markdown",
      "source": [
        "#### 2. Perform an appropriate statistical test."
      ],
      "metadata": {
        "id": "I79__PHVH19G"
      }
    },
    {
      "cell_type": "code",
      "source": [
        "# Perform Statistical Test to obtain P-Value\n",
        "import scipy.stats as stats\n",
        "# Calculate the Pearson correlation coefficient\n",
        "correlation, p_value = stats.pearsonr(df[\"Age\"], df[\"Calories\"])\n",
        "# Set significance level\n",
        "alpha = 0.05\n",
        "# Interpret results\n",
        "if p_value < alpha:\n",
        "    print(\"Reject H0: Age has a significant effect on the number of calories burnt during a workout.\")\n",
        "else:\n",
        "    print(\"Fail to reject H0: Age does not have a significant effect on the number of calories burnt during a workout.\")"
      ],
      "metadata": {
        "id": "oZrfquKtyian"
      },
      "execution_count": null,
      "outputs": []
    },
    {
      "cell_type": "markdown",
      "source": [
        "##### Which statistical test have you done to obtain P-Value?"
      ],
      "metadata": {
        "id": "Ou-I18pAyIpj"
      }
    },
    {
      "cell_type": "markdown",
      "source": [
        "Pearson correlation coefficient.\n",
        "The Pearson correlation coefficient is a measure of the linear relationship between two variables. It ranges from -1 to 1, where:\n",
        "\n",
        "-1 indicates a perfect negative correlation\n",
        "\n",
        "0 indicates no correlation\n",
        "\n",
        "1 indicates a perfect positive correlation"
      ],
      "metadata": {
        "id": "s2U0kk00ygSB"
      }
    },
    {
      "cell_type": "markdown",
      "source": [
        "##### Why did you choose the specific statistical test?"
      ],
      "metadata": {
        "id": "fF3858GYyt-u"
      }
    },
    {
      "cell_type": "markdown",
      "source": [
        "The statistical test used to obtain the p-value in this code is the Pearson correlation coefficient test.\n",
        "\n",
        "The Pearson correlation coefficient is a measure of the linear relationship between two variables.\n",
        "\n",
        "In this case, we are interested in measuring the relationship between age and calories burnt."
      ],
      "metadata": {
        "id": "HO4K0gP5y3B4"
      }
    },
    {
      "cell_type": "markdown",
      "source": [
        "### Hypothetical Statement - 2"
      ],
      "metadata": {
        "id": "4_0_7-oCpUZd"
      }
    },
    {
      "cell_type": "markdown",
      "source": [
        "#### 1. State Your research hypothesis as a null hypothesis and alternate hypothesis."
      ],
      "metadata": {
        "id": "hwyV_J3ipUZe"
      }
    },
    {
      "cell_type": "markdown",
      "source": [
        "Null Hypothesis (H0): There is no difference in the average number of calories burnt between males and females.\n",
        "\n",
        "H0: μ_male = μ_female\n",
        "\n",
        "Alternative Hypothesis (H1): There is a difference in the average number of calories burnt between males and females.\n",
        "\n",
        "H1: μ_male ≠ μ_female"
      ],
      "metadata": {
        "id": "E5NBL_S3yeMj"
      }
    },
    {
      "cell_type": "markdown",
      "source": [
        "#### 2. Perform an appropriate statistical test."
      ],
      "metadata": {
        "id": "3yB-zSqbpUZe"
      }
    },
    {
      "cell_type": "code",
      "source": [
        "# Perform Statistical Test to obtain P-Value\n",
        "# Separate data by gender\n",
        "import scipy.stats as stats\n",
        "\n",
        "# Separate data by gender\n",
        "men = df[df[\"Gender\"] == \"male\"][\"Calories\"]\n",
        "women = df[df[\"Gender\"] == \"female\"][\"Calories\"]\n",
        "\n",
        "# Perform independent samples t-test\n",
        "t_stat, p_value = stats.ttest_ind(men, women)\n",
        "\n",
        "# Set significance level\n",
        "alpha = 0.05\n",
        "\n",
        "# Interpret results\n",
        "if p_value < alpha:\n",
        "    print(\"Reject H0: There is a significant difference in the average number of calories burnt between males and females.\")\n",
        "else:\n",
        "    print(\"Fail to reject H0: There is no significant difference in the average number of calories burnt between males and females.\")"
      ],
      "metadata": {
        "id": "sWxdNTXNpUZe"
      },
      "execution_count": null,
      "outputs": []
    },
    {
      "cell_type": "markdown",
      "source": [
        "##### Which statistical test have you done to obtain P-Value?"
      ],
      "metadata": {
        "id": "dEUvejAfpUZe"
      }
    },
    {
      "cell_type": "markdown",
      "source": [
        "Independent samples t-test:\n",
        "\n",
        "The independent samples t-test is a statistical test that is used to compare the means of two independent groups. In this case, we used the independent samples t-test to compare the mean calories burned between men and women."
      ],
      "metadata": {
        "id": "oLDrPz7HpUZf"
      }
    },
    {
      "cell_type": "markdown",
      "source": [
        "##### Why did you choose the specific statistical test?"
      ],
      "metadata": {
        "id": "Fd15vwWVpUZf"
      }
    },
    {
      "cell_type": "markdown",
      "source": [
        "The independent samples t-test is appropriate for comparing the means of two independent groups. In this case, we are comparing the mean calories burned between men and women.\n",
        "\n",
        "The independent samples t-test is a relatively simple test to perform. This makes it a good choice for a quick and easy analysis."
      ],
      "metadata": {
        "id": "4xOGYyiBpUZf"
      }
    },
    {
      "cell_type": "markdown",
      "source": [
        "### Hypothetical Statement - 3"
      ],
      "metadata": {
        "id": "bn_IUdTipZyH"
      }
    },
    {
      "cell_type": "markdown",
      "source": [
        "#### 1. State Your research hypothesis as a null hypothesis and alternate hypothesis."
      ],
      "metadata": {
        "id": "49K5P_iCpZyH"
      }
    },
    {
      "cell_type": "markdown",
      "source": [
        "Null Hypothesis (H0): There is no significant correlation between heart rate and calories burnt.\n",
        "\n",
        "H0: ρ = 0\n",
        "\n",
        "Alternative Hypothesis (H1): There is a significant correlation between heart rate and calories burnt.\n",
        "\n",
        "H1: ρ ≠ 0"
      ],
      "metadata": {
        "id": "JWHL8QKly4VQ"
      }
    },
    {
      "cell_type": "markdown",
      "source": [],
      "metadata": {
        "id": "7gWI5rT9pZyH"
      }
    },
    {
      "cell_type": "markdown",
      "source": [
        "#### 2. Perform an appropriate statistical test."
      ],
      "metadata": {
        "id": "Nff-vKELpZyI"
      }
    },
    {
      "source": [
        "import scipy.stats as stats\n",
        "\n",
        "# Calculate the Pearson correlation coefficient\n",
        "correlation, p_value = stats.pearsonr(df[\"Heart_Rate\"], df[\"Calories\"])\n",
        "\n",
        "# Set significance level\n",
        "alpha = 0.05\n",
        "\n",
        "# Interpret results\n",
        "if p_value < alpha:\n",
        "    print(\"Reject H0: There is a significant correlation between heart rate and calories burnt.\")\n",
        "else:\n",
        "    print(\"Fail to reject H0: There is no significant correlation between heart rate and calories burnt.\")"
      ],
      "cell_type": "code",
      "metadata": {
        "id": "bv-zCnzN76lJ"
      },
      "execution_count": null,
      "outputs": []
    },
    {
      "cell_type": "markdown",
      "source": [
        "Pearson correlation coefficient. The Pearson correlation coefficient is a measure of the linear relationship between two variables. It ranges from -1 to 1, where:\n",
        "\n",
        "-1 indicates a perfect negative correlation\n",
        "\n",
        "0 indicates no correlation\n",
        "\n",
        "1 indicates a perfect positive correlation\n",
        "\n"
      ],
      "metadata": {
        "id": "ytWJ8v15pZyI"
      }
    },
    {
      "cell_type": "markdown",
      "source": [
        "##### Why did you choose the specific statistical test?"
      ],
      "metadata": {
        "id": "dWbDXHzopZyI"
      }
    },
    {
      "cell_type": "markdown",
      "source": [
        "The Pearson correlation coefficient is a measure of the linear relationship between two variables.\n",
        "\n",
        "In this case, we are interested in measuring the relationship between heart rate and calories burned."
      ],
      "metadata": {
        "id": "M99G98V6pZyI"
      }
    },
    {
      "cell_type": "markdown",
      "source": [
        "## ***6. Feature Engineering & Data Pre-processing***"
      ],
      "metadata": {
        "id": "yLjJCtPM0KBk"
      }
    },
    {
      "cell_type": "markdown",
      "source": [
        "### 1. Handling Missing Values"
      ],
      "metadata": {
        "id": "xiyOF9F70UgQ"
      }
    },
    {
      "cell_type": "markdown",
      "source": [
        "#### What all missing value imputation techniques have you used and why did you use those techniques?"
      ],
      "metadata": {
        "id": "7wuGOrhz0itI"
      }
    },
    {
      "cell_type": "markdown",
      "source": [
        "There are no missing values in any columns."
      ],
      "metadata": {
        "id": "1ixusLtI0pqI"
      }
    },
    {
      "cell_type": "markdown",
      "source": [
        "### 2. Handling Outliers"
      ],
      "metadata": {
        "id": "id1riN9m0vUs"
      }
    },
    {
      "cell_type": "code",
      "source": [
        "# Handling Outliers & Outlier treatments\n",
        "df.info()"
      ],
      "metadata": {
        "id": "M6w2CzZf04JK"
      },
      "execution_count": null,
      "outputs": []
    },
    {
      "cell_type": "code",
      "source": [
        "numerical_cols = ['Height', 'Weight', 'Heart_Rate', 'Age', 'Body_Temp', 'Duration']\n",
        "def handle_outliers_iqr(data, cols):\n",
        "    for col in cols:\n",
        "        Q1 = data[col].quantile(0.25)\n",
        "        Q3 = data[col].quantile(0.75)\n",
        "        IQR = Q3 - Q1\n",
        "        # Define the upper and lower bounds for outlier detection\n",
        "        lower_bound = Q1 - 1.5 * IQR\n",
        "        upper_bound = Q3 + 1.5 * IQR\n",
        "        # Replace outliers with NaN\n",
        "        data[col][(data[col] < lower_bound) | (data[col] > upper_bound)] = None  # or use np.nan\n",
        "    return data\n",
        "\n",
        "# Apply outlier handling using the IQR method\n",
        "df_clean_iqr = handle_outliers_iqr(df.copy(), numerical_cols)"
      ],
      "metadata": {
        "id": "NmmxB6V44A2O"
      },
      "execution_count": null,
      "outputs": []
    },
    {
      "cell_type": "markdown",
      "source": [
        "##### What all outlier treatment techniques have you used and why did you use those techniques?"
      ],
      "metadata": {
        "id": "578E2V7j08f6"
      }
    },
    {
      "cell_type": "markdown",
      "source": [
        "Interquartile Range (IQR) Method:\n",
        "The IQR method identifies outliers based on the spread of the middle 50% of the data.\n",
        "\n",
        "It calculates the difference between the third quartile (Q3) and the first quartile (Q1) of the dataset (IQR = Q3 - Q1). Data points outside a certain range of the IQR are considered outliers.\n",
        "\n",
        "This method is chosen because it is robust to outliers in the data and provides a measure of variability that is not influenced by extreme values."
      ],
      "metadata": {
        "id": "uGZz5OrT1HH-"
      }
    },
    {
      "cell_type": "markdown",
      "source": [
        "### 3. Categorical Encoding"
      ],
      "metadata": {
        "id": "89xtkJwZ18nB"
      }
    },
    {
      "cell_type": "code",
      "source": [
        "df['Gender'].value_counts()"
      ],
      "metadata": {
        "id": "Dh7ZiDYeAfSi"
      },
      "execution_count": null,
      "outputs": []
    },
    {
      "cell_type": "code",
      "source": [
        "# Encode your categorical columns\n",
        "# Assuming 'df' is your DataFrame containing the 'Gender' column\n",
        "# Encode the 'Gender' column using one-hot encoding\n",
        "one_hot_encoded_data = pd.get_dummies(df, columns = ['Gender'])\n",
        "print(one_hot_encoded_data)\n",
        "\n",
        "# # Print the encoded dataframe\n",
        "print(df.head())\n",
        "\n"
      ],
      "metadata": {
        "id": "21JmIYMG2hEo"
      },
      "execution_count": null,
      "outputs": []
    },
    {
      "cell_type": "markdown",
      "source": [
        "#### What all categorical encoding techniques have you used & why did you use those techniques?"
      ],
      "metadata": {
        "id": "67NQN5KX2AMe"
      }
    },
    {
      "cell_type": "markdown",
      "source": [
        "One-hot encoding: This is the most common and straightforward method of categorical encoding.\n",
        "\n",
        "It creates a new binary column for each unique value in the categorical column. I used this technique for the \"Gender\" column.\n",
        "\n",
        "This technique is simple to implement and interpret. It is also compatible with most machine learning algorithms."
      ],
      "metadata": {
        "id": "UDaue5h32n_G"
      }
    },
    {
      "cell_type": "markdown",
      "source": [
        "### 4. Feature Manipulation & Selection"
      ],
      "metadata": {
        "id": "-oLEiFgy-5Pf"
      }
    },
    {
      "cell_type": "markdown",
      "source": [
        "#### 1. Feature Manipulation"
      ],
      "metadata": {
        "id": "C74aWNz2AliB"
      }
    },
    {
      "cell_type": "code",
      "source": [
        "# Manipulate Features to minimize feature correlation and create new features\n",
        "numeric_df = df.select_dtypes(include=['float64', 'int64'])\n",
        "correlation_matrix = numeric_df.corr()\n",
        "#Feature Scaling\n",
        "scaler = StandardScaler()\n",
        "scaled_features = scaler.fit_transform(df[['Age', 'Height', 'Weight', 'Duration', 'Heart_Rate']])\n",
        "df_scaled = pd.DataFrame(scaled_features, columns=['Age', 'Height', 'Weight', 'Duration', 'Heart_Rate'])"
      ],
      "metadata": {
        "id": "h1qC4yhBApWC"
      },
      "execution_count": null,
      "outputs": []
    },
    {
      "cell_type": "markdown",
      "source": [
        "#### 2. Feature Selection"
      ],
      "metadata": {
        "id": "2DejudWSA-a0"
      }
    },
    {
      "cell_type": "code",
      "source": [
        "# Step 1: Calculate correlation coefficients with the target variable\n",
        "correlation_with_calories = df.drop(['User_ID', 'Gender'], axis=1).corr()['Calories'].abs().sort_values(ascending=False)\n",
        "\n",
        "# Step 2: Select features based on correlation coefficients\n",
        "selected_features = correlation_with_calories[1:4].index.tolist()  # Exclude 'Calories' itself\n",
        "\n",
        "# Step 3: Manually select additional features based on domain knowledge\n",
        "domain_features = ['Duration', 'Heart_Rate', 'Body_Temp']  # Additional features based on domain knowledge\n",
        "\n",
        "# Combine selected features\n",
        "final_selected_features = selected_features + domain_features\n",
        "\n",
        "# Print selected features\n",
        "print(\"Selected Features:\", final_selected_features)\n",
        "\n",
        "\n"
      ],
      "metadata": {
        "id": "YLhe8UmaBCEE"
      },
      "execution_count": null,
      "outputs": []
    },
    {
      "cell_type": "markdown",
      "source": [
        "##### What all feature selection methods have you used  and why?"
      ],
      "metadata": {
        "id": "pEMng2IbBLp7"
      }
    },
    {
      "cell_type": "markdown",
      "source": [
        "Correlation Analysis: Quantifies the linear relationship between features and the target variable. Features with higher absolute correlation coefficients are considered more relevant.\n",
        "\n",
        "Manual Selection based on Domain Knowledge: Incorporates expert insights to select features known to be important or relevant to the problem.\n",
        "\n",
        "These methods are chosen for their simplicity, interpretability, and ability to identify informative features for predicting the target variable."
      ],
      "metadata": {
        "id": "rb2Lh6Z8BgGs"
      }
    },
    {
      "cell_type": "markdown",
      "source": [
        "##### Which all features you found important and why?"
      ],
      "metadata": {
        "id": "rAdphbQ9Bhjc"
      }
    },
    {
      "cell_type": "markdown",
      "source": [
        "The important features identified are Duration, Heart Rate, and Body Temperature.\n",
        "\n",
        "These features are considered important because they have a significant impact on calorie expenditure during physical activities.\n",
        "\n",
        "Duration represents the length of activity, while Heart Rate and Body Temperature reflect the intensity and metabolic activity, respectively, both of which influence calorie burn rates."
      ],
      "metadata": {
        "id": "fGgaEstsBnaf"
      }
    },
    {
      "cell_type": "markdown",
      "source": [
        "### 5. Data Transformation"
      ],
      "metadata": {
        "id": "TNVZ9zx19K6k"
      }
    },
    {
      "cell_type": "markdown",
      "source": [
        "Yes,the dataset may benefit from the following transformations:\n",
        "\n",
        "Normalization:\n",
        "\n",
        "The features in the Calories dataset have different units and scales.\n",
        "\n",
        " We can normalize the features by scaling them to a common range, such as between 0 and 1.\n",
        "\n",
        "This can be done using the MinMaxScaler or StandardScaler classes from the sklearn.preprocessing module."
      ],
      "metadata": {
        "id": "nqoHp30x9hH9"
      }
    },
    {
      "cell_type": "markdown",
      "source": [
        "\n",
        "### 6. Data Scaling"
      ],
      "metadata": {
        "id": "rMDnDkt2B6du"
      }
    },
    {
      "cell_type": "code",
      "source": [
        "# Scaling your data\n",
        "from sklearn.preprocessing import MinMaxScaler\n",
        "features_to_scale = ['User_ID', 'Height', 'Weight', 'Heart_Rate', 'Age', 'Body_Temp', 'Duration']\n",
        "\n",
        "# Initialize the StandardScaler\n",
        "scaler = MinMaxScaler()\n",
        "\n",
        "# Scale the selected features\n",
        "df[features_to_scale] = scaler.fit_transform(df[features_to_scale])\n",
        "\n",
        "# Print the scaled DataFrame\n",
        "print(df.head())"
      ],
      "metadata": {
        "id": "dL9LWpySC6x_"
      },
      "execution_count": null,
      "outputs": []
    },
    {
      "cell_type": "markdown",
      "source": [
        "##### Which method have you used to scale you data and why?"
      ],
      "metadata": {
        "id": "yiiVWRdJDDil"
      }
    },
    {
      "cell_type": "markdown",
      "source": [
        "Min-max scaling: This method scales the data so that all features lie between 0 and 1."
      ],
      "metadata": {
        "id": "H5-rt9tqB46I"
      }
    },
    {
      "cell_type": "markdown",
      "source": [
        "### 7. Dimesionality Reduction"
      ],
      "metadata": {
        "id": "1UUpS68QDMuG"
      }
    },
    {
      "cell_type": "markdown",
      "source": [
        "##### Do you think that dimensionality reduction is needed? Explain Why?"
      ],
      "metadata": {
        "id": "kexQrXU-DjzY"
      }
    },
    {
      "cell_type": "markdown",
      "source": [
        "The preprocessing step is often performed to ensure that features with different scales and units contribute equally to the analysis and modeling process.\n",
        "\n",
        "In this case, since the features are already scaled, it may not be necessary to apply further dimensionality reduction techniques"
      ],
      "metadata": {
        "id": "GGRlBsSGDtTQ"
      }
    },
    {
      "cell_type": "markdown",
      "source": [
        "### 8. Data Splitting"
      ],
      "metadata": {
        "id": "BhH2vgX9EjGr"
      }
    },
    {
      "cell_type": "code",
      "source": [
        "#Split the data into features and target\n",
        "features = df[[\"User_ID\", \"Gender\", \"Age\", \"Weight\", \"Height\", \"Heart_Rate\", \"Duration\"]]\n",
        "target = df[\"Calories\"]\n",
        "\n",
        "# Split the data into training and test sets\n",
        "from sklearn.model_selection import train_test_split\n",
        "\n",
        "X_train, X_test, y_train, y_test = train_test_split(features, target, test_size=0.25, random_state=42)\n",
        "\n",
        "# Print the shapes of the training and test sets\n",
        "print(\"X_train shape:\", X_train.shape)\n",
        "print(\"X_test shape:\", X_test.shape)\n",
        "print(\"y_train shape:\", y_train.shape)\n",
        "print(\"y_test shape:\", y_test.shape)"
      ],
      "metadata": {
        "id": "0CTyd2UwEyNM"
      },
      "execution_count": null,
      "outputs": []
    },
    {
      "cell_type": "markdown",
      "source": [
        "##### What data splitting ratio have you used and why?"
      ],
      "metadata": {
        "id": "qjKvONjwE8ra"
      }
    },
    {
      "cell_type": "markdown",
      "source": [
        "The dataset uses a data splitting ratio of 75% training data and 25% test data.\n",
        "\n",
        "This is a common ratio that is used in machine learning.\n",
        "\n",
        "It is computationally efficient: Training a machine learning model can be computationally expensive, so using a smaller test set can save time and resources."
      ],
      "metadata": {
        "id": "Y2lJ8cobFDb_"
      }
    },
    {
      "cell_type": "markdown",
      "source": [
        "### 9. Handling Imbalanced Dataset"
      ],
      "metadata": {
        "id": "P1XJ9OREExlT"
      }
    },
    {
      "cell_type": "markdown",
      "source": [
        "##### Do you think the dataset is imbalanced? Explain Why."
      ],
      "metadata": {
        "id": "VFOzZv6IFROw"
      }
    },
    {
      "cell_type": "markdown",
      "source": [
        "To determine whether a dataset is imbalanced, we need to look at the distribution of the target variable.\n",
        "\n",
        "In this case, the target variable is the Calories column.\n",
        "\n",
        "We can use the value_counts() method to get the count of each unique value in the Calories column"
      ],
      "metadata": {
        "id": "GeKDIv7pFgcC"
      }
    },
    {
      "cell_type": "code",
      "source": [
        "#checking whether the dataset is balanced or not\n",
        "df[\"Calories\"].value_counts()\n"
      ],
      "metadata": {
        "id": "nQsRhhZLFiDs"
      },
      "execution_count": null,
      "outputs": []
    },
    {
      "source": [
        "# Plot the distribution of the 'Calories' variable\n",
        "plt.figure(figsize=(8, 6))\n",
        "df['Calories'].hist(bins=20, color='skyblue', edgecolor='black', alpha=0.7)\n",
        "plt.title('Distribution of Calories Burnt')\n",
        "plt.xlabel('Calories')\n",
        "plt.ylabel('Frequency')\n",
        "plt.grid(False)\n",
        "plt.show()"
      ],
      "cell_type": "code",
      "metadata": {
        "id": "75j1JnAfFWQt"
      },
      "execution_count": null,
      "outputs": []
    },
    {
      "cell_type": "code",
      "source": [
        "from sklearn.utils import resample\n",
        "#for balancing columns:calories\n",
        "# Separate majority and minority classes\n",
        "majority_class = df[df['Calories'] == 0]\n",
        "minority_class = df[df['Calories'] == 1]\n",
        "\n",
        "# Upsample minority class\n",
        "minority_upsampled = resample(minority_class,\n",
        "                               replace=True,     # sample with replacement\n",
        "                               n_samples=len(majority_class),    # to match majority class\n",
        "                               random_state=42) # reproducible results\n",
        "\n",
        "# Combine majority class with upsampled minority class\n",
        "df_upsampled = pd.concat([majority_class, minority_upsampled])\n",
        "\n",
        "# Display new class counts\n",
        "df_upsampled['Calories'].value_counts()"
      ],
      "metadata": {
        "id": "UfXAEI_fHOtT"
      },
      "execution_count": null,
      "outputs": []
    },
    {
      "cell_type": "markdown",
      "source": [
        "##### What technique did you use to handle the imbalance dataset and why? (If needed to be balanced)\n",
        "\n",
        " I used upsampling to handle the imbalanced dataset also known as oversampling.\n",
        " Upsampling involves randomly duplicating samples from the minority class to balance the class distribution."
      ],
      "metadata": {
        "id": "TIqpNgepFxVj"
      }
    },
    {
      "cell_type": "markdown",
      "source": [
        "## ***7. ML Model Implementation***"
      ],
      "metadata": {
        "id": "VfCC591jGiD4"
      }
    },
    {
      "cell_type": "markdown",
      "source": [
        "### ML Model - 1"
      ],
      "metadata": {
        "id": "OB4l2ZhMeS1U"
      }
    },
    {
      "cell_type": "code",
      "source": [
        "# Assuming you have loaded your dataset into a DataFrame named 'df'\n",
        "# Select relevant features (independent variables) and the target variable\n",
        "X = df[['User_ID', 'Age', 'Height', 'Weight', 'Duration', 'Heart_Rate', 'Body_Temp']]\n",
        "y = df['Calories']\n",
        "\n",
        "# Split the data into training and testing sets\n",
        "X_train, X_test, y_train, y_test = train_test_split(X, y, test_size=0.2, random_state=42)\n",
        "\n",
        "# Create a linear regression model\n",
        "model = LinearRegression()\n",
        "\n",
        "# Fit the model to the training data\n",
        "model.fit(X_train, y_train)\n",
        "\n",
        "# Predict calories burnt for the test set\n",
        "y_pred = model.predict(X_test)\n",
        "\n",
        "# Calculate Mean Squared Error\n",
        "mean_squared_error(y_test, y_pred)\n",
        "\n",
        "\n",
        "# Calculate R-squared (accuracy) for the test set\n",
        "r2 = r2_score(y_test, y_pred)\n",
        "Linear_accuracy_percentage = r2 * 100\n",
        "print(\"Accuracy (Test): {:.2f}%\".format(Linear_accuracy_percentage))"
      ],
      "metadata": {
        "id": "7ebyywQieS1U"
      },
      "execution_count": null,
      "outputs": []
    },
    {
      "cell_type": "markdown",
      "source": [
        "#### 1. Explain the ML Model used and it's performance using Evaluation metric Score Chart."
      ],
      "metadata": {
        "id": "ArJBuiUVfxKd"
      }
    },
    {
      "cell_type": "code",
      "source": [
        "# Calculate Mean Absolute Error\n",
        "Linear_MSE  = mean_squared_error(y_test, y_pred)\n",
        "print(\"MSE :\" ,Linear_MSE)\n",
        "\n",
        "Linear_MAE =mean_absolute_error(y_test, y_pred)\n",
        "print(\"Linear MAE:\", Linear_MAE)\n",
        "\n",
        "Linear_RMSE = np.sqrt(Linear_MSE)\n",
        "print(\"RMSE :\" ,Linear_RMSE)\n",
        "\n",
        "# Calculate R-squared (accuracy) for the test set\n",
        "Linear_r2 = r2_score(y_test, y_pred)\n",
        "print(\"r2:\", Linear_r2)\n",
        "\n",
        "Linear_adjusted_r2 = 1-(1-r2_score((y_test),(y_pred)))*((X_test.shape[0]-1)/(X_test.shape[0]-X_test.shape[1]-1))\n",
        "print(\"Adjusted R2 : \",Linear_adjusted_r2)"
      ],
      "metadata": {
        "id": "DXM23WJ2-5oj"
      },
      "execution_count": null,
      "outputs": []
    },
    {
      "cell_type": "code",
      "source": [
        "# Visualizing evaluation Metric Score chart\n",
        "\n",
        "# Evaluation metric scores\n",
        "mse = 132.10\n",
        "accuracy_percentage = 96.73\n",
        "\n",
        "# Labels for the bars\n",
        "labels = ['Mean Squared Error (MSE)', 'Accuracy (Test)']\n",
        "\n",
        "# Scores for the bars\n",
        "scores = [mse, accuracy_percentage]\n",
        "\n",
        "# Create a bar chart\n",
        "plt.figure(figsize=(8, 6))\n",
        "plt.bar(labels, scores, color=['blue', 'green'])\n",
        "\n",
        "# Add title and labels\n",
        "plt.title('Evaluation Metric Scores')\n",
        "plt.xlabel('Metric')\n",
        "plt.ylabel('Score')\n",
        "\n",
        "# Show the plot\n",
        "plt.show()\n"
      ],
      "metadata": {
        "id": "rqD5ZohzfxKe"
      },
      "execution_count": null,
      "outputs": []
    },
    {
      "cell_type": "markdown",
      "source": [
        "#1. Which Evaluation metrics did you consider for a positive business impact and why?"
      ],
      "metadata": {
        "id": "sIBVeGSUiBX9"
      }
    },
    {
      "cell_type": "markdown",
      "source": [
        "Both R-squared and adjusted R-squared have a highly positive impact on business decisions, as they provide insights into how well the model fits the data and explain the variance in the target variable."
      ],
      "metadata": {
        "id": "6E_kIjC8iJJu"
      }
    },
    {
      "cell_type": "markdown",
      "source": [
        "#2. Which ML model did you choose from the above created models as your final prediction model and why?"
      ],
      "metadata": {
        "id": "xx77GS_Fi2Vi"
      }
    },
    {
      "cell_type": "markdown",
      "source": [
        "Linear Regression was chosen as the final prediction model due to its simplicity, interpretability, and good performance in explaining the variance in the target variable (calories burnt) based on the provided features."
      ],
      "metadata": {
        "id": "rEqHsAsUi8W6"
      }
    },
    {
      "cell_type": "markdown",
      "source": [
        "#3. Explain the model which you have used and the feature importance using any model explainability tool?"
      ],
      "metadata": {
        "id": "YtT4Uc2wjXCO"
      }
    },
    {
      "cell_type": "markdown",
      "source": [
        "The model used for predicting calorie expenditure is Linear Regression. Linear Regression is a supervised learning algorithm used for predicting a continuous target variable based on one or more input features.\n",
        "\n",
        "It assumes a linear relationship between the input features and the target variable.\n",
        "\n",
        "Feature Importance:\n",
        "Feature importance in a linear regression model can be determined by examining the coefficients assigned to each feature. Features with higher absolute coefficient values are considered more important in influencing the target variable."
      ],
      "metadata": {
        "id": "SBBCgQ9ejbdF"
      }
    },
    {
      "cell_type": "markdown",
      "source": [
        "### ML Model - 2"
      ],
      "metadata": {
        "id": "dJ2tPlVmpsJ0"
      }
    },
    {
      "cell_type": "code",
      "source": [
        "# Select relevant features (independent variables) and the target variable\n",
        "X = df[['User_ID', 'Age', 'Height', 'Weight', 'Duration', 'Heart_Rate', 'Body_Temp']]\n",
        "y = df['Calories']\n",
        "\n",
        "# Split the data into training and testing sets\n",
        "X_train, X_test, y_train, y_test = train_test_split(X, y, test_size=0.2, random_state=42)\n",
        "\n",
        "# Create a decision tree regression model\n",
        "model = DecisionTreeRegressor()\n",
        "\n",
        "# Train the model on the training data\n",
        "model.fit(X_train, y_train)\n",
        "\n",
        "# Make predictions on the test data\n",
        "y_pred = model.predict(X_test)\n",
        "\n",
        "# Calculate Mean Absolute Error\n",
        "mae = np.mean(np.abs(y_test - y_pred))\n",
        "print(\"Mean Absolute Error:\", mae)\n",
        "\n",
        "# Calculate R-squared (accuracy) for the test set\n",
        "accuracy = r2_score(y_test, y_pred)\n",
        "DT_accuracy_percentage = accuracy * 100\n",
        "print(\"Accuracy (Test): {:.2f}%\".format(DT_accuracy_percentage))"
      ],
      "metadata": {
        "id": "RjBStcw_KUz4"
      },
      "execution_count": null,
      "outputs": []
    },
    {
      "cell_type": "markdown",
      "source": [
        "#### 1. Explain the ML Model used and it's performance using Evaluation metric Score Chart."
      ],
      "metadata": {
        "id": "JWYfwnehpsJ1"
      }
    },
    {
      "cell_type": "code",
      "source": [
        "DT_MSE  = mean_squared_error(y_test, y_pred)\n",
        "print(\"MSE :\" , DT_MSE)\n",
        "\n",
        "DT_MAE  = mean_absolute_error(y_test, y_pred)\n",
        "print(\"MSE :\" , DT_MAE)\n",
        "\n",
        "DT_RMSE = np.sqrt(DT_MSE)\n",
        "print(\"RMSE :\" ,DT_RMSE)\n",
        "\n",
        "DT_r2 = r2_score(y_test, y_pred)\n",
        "print(\"R2 :\" ,DT_r2)\n",
        "DT_adjusted_r2 = 1-(1-r2_score((y_test),(y_pred)))*((X_test.shape[0]-1)/(X_test.shape[0]-X_test.shape[1]-1))\n",
        "print(\"Adjusted R2 : \",DT_adjusted_r2)"
      ],
      "metadata": {
        "id": "H3jBaveV_JBb"
      },
      "execution_count": null,
      "outputs": []
    },
    {
      "cell_type": "markdown",
      "source": [
        "1.The model we used is Decision Tree.\n",
        "\n",
        "2.Fit the algorithm and predict it.\n",
        "\n",
        "The evaluation metrics we used are:-\n",
        "\n",
        "1.Mean Squared Error:-It is calculated as the average of the squared differences between the predicted values and the true values.\n",
        "\n",
        "2.Root Mean Squared Error:It is calculated as the average of the root of squared differences between the predicted values and the true values.\n",
        "\n",
        "3.R2 score:It represents the proportion of the variance in the dependent variable that is predictable from the independent variable(s)."
      ],
      "metadata": {
        "id": "2F24lvLA_smS"
      }
    },
    {
      "cell_type": "code",
      "source": [
        "# Visualizing evaluation Metric Score chart\n",
        "\n",
        "# Plotting the predicted values against the actual values\n",
        "plt.figure(figsize=(6, 3))\n",
        "plt.scatter(y_test, y_pred, color='blue', alpha=0.5)\n",
        "plt.plot([y_test.min(), y_test.max()], [y_test.min(), y_test.max()], 'k--', lw=2)\n",
        "plt.xlabel('Actual Values')\n",
        "plt.ylabel('Predicted Values')\n",
        "plt.title('Evaluation Metric Score Chart')\n",
        "plt.grid(True)\n",
        "plt.show()\n"
      ],
      "metadata": {
        "id": "yEl-hgQWpsJ1"
      },
      "execution_count": null,
      "outputs": []
    },
    {
      "cell_type": "markdown",
      "source": [
        "# 1. Which Evaluation metrics did you consider for a positive business impact and why?"
      ],
      "metadata": {
        "id": "OmY5syRfjsaS"
      }
    },
    {
      "cell_type": "markdown",
      "source": [
        "These two metrics, R-squared and Adjusted R-squared, are highly valued in business contexts as they provide insights into the explanatory power and generalization ability of the predictive model.\n",
        "\n",
        "Higher values of these metrics indicate better model performance, which ultimately leads to more informed decision-making and positive business impact."
      ],
      "metadata": {
        "id": "6ki7qA46jvBr"
      }
    },
    {
      "cell_type": "markdown",
      "source": [
        "#2. Which ML model did you choose from the above created models as your final prediction model and why?"
      ],
      "metadata": {
        "id": "wKnzR-4tkSDz"
      }
    },
    {
      "cell_type": "markdown",
      "source": [
        " Decision Tree Regression model was chosen as the final prediction model due to its simplicity, interpretability, and ability to capture complex relationships in the data without extensive preprocessing."
      ],
      "metadata": {
        "id": "RgdVph0TkXoG"
      }
    },
    {
      "cell_type": "markdown",
      "source": [
        "#3. Explain the model which you have used and the feature importance using any model explainability tool?"
      ],
      "metadata": {
        "id": "xzD7FAdGkv0n"
      }
    },
    {
      "cell_type": "markdown",
      "source": [
        "The model used is Decision Tree Regression, a supervised learning algorithm used for regression tasks. It works by recursively partitioning the data into subsets based on features, aiming to minimize the variance of the target variable within each subset.\n",
        "\n",
        "Feature Importance:\n",
        "Decision trees inherently provide a measure of feature importance based on how frequently they are used for splitting and how much they reduce impurity (e.g., mean squared error). Features used at the top of the tree and those that result in the largest reduction in impurity are considered more important."
      ],
      "metadata": {
        "id": "2sHkoak0kx0V"
      }
    },
    {
      "cell_type": "markdown",
      "source": [
        "### ML Model - 3"
      ],
      "metadata": {
        "id": "Fze-IPXLpx6K"
      }
    },
    {
      "cell_type": "code",
      "source": [
        "import pandas as pd\n",
        "from sklearn.model_selection import train_test_split\n",
        "from sklearn.preprocessing import StandardScaler\n",
        "from sklearn.svm import SVR\n",
        "from sklearn.metrics import mean_squared_error, mean_absolute_error\n",
        "from sklearn.metrics import r2_score\n",
        "\n",
        "# Assuming you have loaded your dataset into a DataFrame named 'df'\n",
        "# Select relevant features (independent variables) and the target variable\n",
        "X = df[['Age', 'Height', 'Weight', 'Duration', 'Heart_Rate', 'Body_Temp']]\n",
        "y = df['Calories']\n",
        "\n",
        "# Split the data into training and testing sets\n",
        "X_train, X_test, y_train, y_test = train_test_split(X, y, test_size=0.2, random_state=42)\n",
        "\n",
        "# Normalize the input features\n",
        "scaler = StandardScaler()\n",
        "X_train_scaled = scaler.fit_transform(X_train)\n",
        "X_test_scaled = scaler.transform(X_test)\n",
        "\n",
        "# Create and train the SVR model\n",
        "model = SVR(kernel='rbf')  # RBF kernel is often used for SVR\n",
        "model.fit(X_train_scaled, y_train)\n",
        "\n",
        "# Predict the target variable for the test set\n",
        "y_pred = model.predict(X_test_scaled)\n",
        "\n",
        "# Calculate Mean Squared Error and Mean Absolute Error\n",
        "mse = mean_squared_error(y_test, y_pred)\n",
        "mae = mean_absolute_error(y_test, y_pred)\n",
        "print(\"Mean Squared Error:\", mse)\n",
        "print(\"Mean Absolute Error:\", mae)\n",
        "\n",
        "# Calculate R-squared (accuracy) for the test set\n",
        "accuracy = r2_score(y_test, y_pred)\n",
        "SVM_accuracy_percentage = accuracy * 100\n",
        "print(\"Accuracy (Test): {:.2f}%\".format(SVM_accuracy_percentage))\n"
      ],
      "metadata": {
        "id": "FFrSXAtrpx6M"
      },
      "execution_count": null,
      "outputs": []
    },
    {
      "cell_type": "markdown",
      "source": [
        "#### 1. Explain the ML Model used and it's performance using Evaluation metric Score Chart."
      ],
      "metadata": {
        "id": "7AN1z2sKpx6M"
      }
    },
    {
      "cell_type": "code",
      "source": [
        "SVM_MSE  = mean_squared_error(y_test, y_pred)\n",
        "print(\"MSE :\" , SVM_MSE)\n",
        "\n",
        "SVM_MAE  = mean_absolute_error(y_test, y_pred)\n",
        "print(\"MSE :\" , SVM_MAE)\n",
        "\n",
        "SVM_RMSE = np.sqrt(SVM_MSE)\n",
        "print(\"RMSE :\" ,SVM_RMSE)\n",
        "\n",
        "SVM_r2 = r2_score(y_test, y_pred)\n",
        "print(\"R2 :\" ,SVM_r2)\n",
        "# Adjusted R-squared formula = 1 - ( (1-R^2) * (n-1) / (n-p-1) )\n",
        "SVM_adjusted_r2 = 1-(1-r2_score((y_test),(y_pred)))*((X_test.shape[0]-1)/(X_test.shape[0]-X_test.shape[1]-1))\n",
        "print(\"Adjusted R2 : \",SVM_adjusted_r2)"
      ],
      "metadata": {
        "id": "uvMI-I4mAJKB"
      },
      "execution_count": null,
      "outputs": []
    },
    {
      "cell_type": "code",
      "source": [
        "# Visualizing evaluation Metric Score chart\n",
        "import matplotlib.pyplot as plt\n",
        "\n",
        "# Plotting the predicted values against the actual values\n",
        "plt.figure(figsize=(6,3))\n",
        "plt.scatter(y_test, y_pred, color='blue', alpha=0.5)\n",
        "#'k' stands for black color ('k' is the abbreviation for black in matplotlib),\n",
        "# and '--' indicates that the line should be dashed. So, 'k--' creates a black dashed line.\n",
        "plt.plot([y_test.min(), y_test.max()], [y_test.min(), y_test.max()], 'k--', lw=2)\n",
        "plt.xlabel('Actual Values')\n",
        "plt.ylabel('Predicted Values')\n",
        "plt.title('Evaluation Metric Score Chart')\n",
        "plt.grid(True)\n",
        "plt.show()\n"
      ],
      "metadata": {
        "id": "xIY4lxxGpx6M"
      },
      "execution_count": null,
      "outputs": []
    },
    {
      "cell_type": "markdown",
      "source": [
        "### 1. Which Evaluation metrics did you consider for a positive business impact and why?"
      ],
      "metadata": {
        "id": "h_CCil-SKHpo"
      }
    },
    {
      "cell_type": "markdown",
      "source": [
        "R-squared (R2) and Adjusted R-squared are the evaluation metrics with the most positive impact. Higher values of these metrics indicate better model performance in explaining the variance in the target variable, leading to more reliable predictions and informed decision-making."
      ],
      "metadata": {
        "id": "jHVz9hHDKFms"
      }
    },
    {
      "cell_type": "markdown",
      "source": [
        "### 2. Which ML model did you choose from the above created models as your final prediction model and why?"
      ],
      "metadata": {
        "id": "cBFFvTBNJzUa"
      }
    },
    {
      "cell_type": "markdown",
      "source": [
        "Support Vector Regression (SVR) with an RBF kernel was chosen as the final prediction model.\n",
        "\n",
        "SVR offers flexibility in capturing complex relationships, benefits from feature scaling, performs well on regression tasks, and provides accurate predictions."
      ],
      "metadata": {
        "id": "6ksF5Q1LKTVm"
      }
    },
    {
      "cell_type": "markdown",
      "source": [
        "### 3. Explain the model which you have used and the feature importance using any model explainability tool?"
      ],
      "metadata": {
        "id": "HvGl1hHyA_VK"
      }
    },
    {
      "cell_type": "markdown",
      "source": [
        "Support Vector Regression (SVR) is a supervised learning algorithm used for regression tasks.\n",
        "\n",
        "It is based on the Support Vector Machine (SVM) algorithm and aims to find a function that approximates the mapping from input variables to the target variable.\n",
        "\n",
        "SVR works by finding the hyperplane that best separates the data into different classes while maximizing the margin between the hyperplane and the support vectors."
      ],
      "metadata": {
        "id": "YnvVTiIxBL-C"
      }
    },
    {
      "cell_type": "markdown",
      "source": [
        "# **Conclusion**"
      ],
      "metadata": {
        "id": "gCX9965dhzqZ"
      }
    },
    {
      "cell_type": "code",
      "source": [
        "# Evaluation metric score chart\n",
        "model_data = pd.DataFrame()\n",
        "model_data['Model Name'] = ['Linear Regression','Decision Tree','Support Vector Machine']\n",
        "model_data['MSE'] = [Linear_MSE,DT_MSE,SVM_MSE]\n",
        "model_data['MAE'] = [Linear_MAE,DT_MAE,SVM_MAE]\n",
        "model_data['RMSE'] = [Linear_RMSE,DT_RMSE,SVM_RMSE]\n",
        "model_data['R2'] = [Linear_r2,DT_r2,SVM_r2]\n",
        "model_data['Adjusted R2'] = [Linear_adjusted_r2,DT_adjusted_r2,SVM_adjusted_r2]\n",
        "model_data['Accuracy']=[Linear_accuracy_percentage,DT_accuracy_percentage,SVM_accuracy_percentage]\n",
        "model_data"
      ],
      "metadata": {
        "id": "TkZnfjsYxNQG"
      },
      "execution_count": null,
      "outputs": []
    },
    {
      "cell_type": "markdown",
      "source": [
        "In conclusion, we explored the implementation of various machine learning models, including Linear Regression, Decision Trees, and Support Vector Machines (SVM), for predicting calorie expenditure based on different features such as age, height, weight, duration, heart rate, and body temperature.\n",
        "\n",
        "We evaluated the performance of each model using metrics such as Mean Squared Error (MSE), Mean Absolute Error (MAE), and R-squared (R2) score on a test dataset. Among the models tested, the Support Vector Machine (SVM) model achieved the highest accuracy, with an R2 score of 98.88%.\n",
        "\n",
        "We then saved the trained SVM model using joblib for future use and demonstrated how to load the saved model to make predictions on unseen data.\n",
        "\n",
        "Overall, the SVM model showed promising results for predicting calorie expenditure, and the ability to save and load the model allows for easy deployment and use in real-world applications.\n",
        "\n",
        "\n"
      ],
      "metadata": {
        "id": "Fjb1IsQkh3yE"
      }
    },
    {
      "cell_type": "markdown",
      "source": [
        "### ***Hurrah! You have successfully completed your Machine Learning Capstone Project !!!***"
      ],
      "metadata": {
        "id": "gIfDvo9L0UH2"
      }
    }
  ]
}